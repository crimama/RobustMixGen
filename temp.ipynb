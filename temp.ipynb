{
 "cells": [
  {
   "cell_type": "code",
   "execution_count": 1,
   "metadata": {},
   "outputs": [
    {
     "name": "stderr",
     "output_type": "stream",
     "text": [
      "/usr/local/lib/python3.8/dist-packages/tqdm/auto.py:22: TqdmWarning: IProgress not found. Please update jupyter and ipywidgets. See https://ipywidgets.readthedocs.io/en/stable/user_install.html\n",
      "  from .autonotebook import tqdm as notebook_tqdm\n"
     ]
    }
   ],
   "source": [
    "\n",
    "import os \n",
    "import cv2\n",
    "import numpy as np \n",
    "import pandas as pd  \n",
    "import math \n",
    "import yaml \n",
    "import json \n",
    "import torchvision.transforms as transforms \n",
    "from PIL import Image \n",
    "\n",
    "from dataset.caption_dataset import re_train_dataset\n",
    "from torchvision import transforms \n",
    "from dataset.randaugment import RandomAugment\n",
    "from PIL import Image \n",
    "from torch.utils.data import DataLoader \n"
   ]
  },
  {
   "cell_type": "code",
   "execution_count": 5,
   "metadata": {},
   "outputs": [],
   "source": [
    "from dataset import create_dataset\n",
    "from torch.utils.data import DataLoader\n",
    "\n",
    "train,valid,test = create_dataset('re',config) \n",
    "trainloader = DataLoader(train,batch_size=32,shuffle=True)\n",
    "data = next(iter(trainloader))"
   ]
  }
 ],
 "metadata": {
  "kernelspec": {
   "display_name": "Python 3",
   "language": "python",
   "name": "python3"
  },
  "language_info": {
   "codemirror_mode": {
    "name": "ipython",
    "version": 3
   },
   "file_extension": ".py",
   "mimetype": "text/x-python",
   "name": "python",
   "nbconvert_exporter": "python",
   "pygments_lexer": "ipython3",
   "version": "3.8.10"
  },
  "orig_nbformat": 4
 },
 "nbformat": 4,
 "nbformat_minor": 2
}
