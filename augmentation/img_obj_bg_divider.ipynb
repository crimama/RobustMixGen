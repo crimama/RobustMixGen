{
 "cells": [
  {
   "cell_type": "code",
   "execution_count": 1,
   "metadata": {},
   "outputs": [
    {
     "data": {
      "text/plain": [
       "'/Volume/RobustMixGen_hun'"
      ]
     },
     "execution_count": 1,
     "metadata": {},
     "output_type": "execute_result"
    }
   ],
   "source": [
    "from pycocotools.coco import COCO\n",
    "from PIL import Image, ImageDraw\n",
    "from tqdm import tqdm\n",
    "import numpy as np\n",
    "import os\n",
    "import json\n",
    "os.chdir('../')\n",
    "os.getcwd()"
   ]
  },
  {
   "cell_type": "code",
   "execution_count": 2,
   "metadata": {},
   "outputs": [],
   "source": [
    "def portion_check(json_file,thrs):\n",
    "    with open(json_file) as f:\n",
    "        data = json.load(f)\n",
    "    count = 0\n",
    "    for i in data:\n",
    "        if i['max_obj_area_portion']:\n",
    "            if i['max_obj_area_portion'] > thrs:\n",
    "                count += 1\n",
    "        else:\n",
    "            pass\n",
    "    return count/len(data)"
   ]
  },
  {
   "cell_type": "code",
   "execution_count": 3,
   "metadata": {},
   "outputs": [],
   "source": [
    "def remove_polygon(image, segmentation, background_color=0, seg_or_bbox: str = 'seg'):\n",
    "    if image.mode == 'L':\n",
    "        # Convert background color to single-channel grayscale\n",
    "        background_color = int(background_color[0])\n",
    "    \n",
    "    mask = Image.new('L', image.size, 255)\n",
    "    draw = ImageDraw.Draw(mask)\n",
    "    \n",
    "    if seg_or_bbox == 'seg':\n",
    "        draw.polygon(segmentation, outline=0, fill=0)\n",
    "    elif seg_or_bbox == 'bbox':\n",
    "        x, y, w, h = [int(v) for v in segmentation]\n",
    "        draw.rectangle((x, y, x+w, y+h), outline=0, fill=0)\n",
    "        \n",
    "    mask = Image.fromarray(np.array(mask), mode='L')\n",
    "    \n",
    "    if image.mode == 'L':\n",
    "        background = Image.new('L', image.size, background_color)\n",
    "    else:\n",
    "        background = Image.new('RGB', image.size, background_color)\n",
    "    \n",
    "    removed_image = Image.composite(image, background, mask)\n",
    "    return removed_image"
   ]
  },
  {
   "cell_type": "code",
   "execution_count": 4,
   "metadata": {},
   "outputs": [],
   "source": [
    "def crop_polygon(image, segmentation, seg_or_bbox: str = 'seg'):\n",
    "    background_removed_image = remove_polygon(image, segmentation,(0, 0, 0), seg_or_bbox)\n",
    "    original_image_array = np.array(image)\n",
    "    background_removed_image_array = np.array(background_removed_image)\n",
    "    \n",
    "    object_only_image_array = original_image_array - background_removed_image_array\n",
    "    object_only_image = Image.fromarray(object_only_image_array)\n",
    "    \n",
    "    return object_only_image"
   ]
  },
  {
   "cell_type": "code",
   "execution_count": 5,
   "metadata": {},
   "outputs": [],
   "source": [
    "# return the center area of the image\n",
    "def center_check(midpoint:list, width:int ,height:int ,thrs: float):\n",
    "    width_area = [0+width*((1-thrs)/2), width-width*((1-thrs)/2)]\n",
    "    height_area = [0+height*((1-thrs)/2), height-height*((1-thrs)/2)]\n",
    "    try:\n",
    "        if midpoint[0] > width_area[0] and midpoint[0] < width_area[1]:\n",
    "            if midpoint[1] > height_area[0] and midpoint[1] < height_area[1]:\n",
    "                return True\n",
    "            else:\n",
    "                return False\n",
    "        else:\n",
    "            return False\n",
    "    except:\n",
    "        return False"
   ]
  },
  {
   "cell_type": "code",
   "execution_count": 6,
   "metadata": {},
   "outputs": [],
   "source": [
    "def obj_bg_div(json_file_path, og_data_path, save_data_path, seg_or_bbox: str, portion_threshold=0.01, center_threshold=0.7):\n",
    "    save_data_path = f\"{save_data_path}_{portion_threshold}_{seg_or_bbox}_center_{center_threshold}\"\n",
    "    save_data_path_obj = os.path.join(save_data_path, \"obj\")\n",
    "    save_data_path_bg = os.path.join(save_data_path, \"bg\")\n",
    "    save_data_path_real_bg = os.path.join(save_data_path, \"real_bg\")\n",
    "    \n",
    "    os.makedirs(save_data_path, exist_ok=True)\n",
    "    os.makedirs(save_data_path_obj, exist_ok=True)\n",
    "    os.makedirs(save_data_path_bg, exist_ok=True)\n",
    "    os.makedirs(save_data_path_real_bg, exist_ok=True)\n",
    "\n",
    "    with open(json_file_path) as json_file:\n",
    "        json_data = json.load(json_file)\n",
    "\n",
    "    num_obj_images , num_bg_images, num_xbg_images, num_real_bg_images = 0, 0, 0, 0\n",
    "    for key in tqdm(json_data, desc=\"Processing images\"):\n",
    "        try:\n",
    "            max_obj_area_portion = json_data[key]['max_obj_area_portion']\n",
    "            max_obj_midpoint = json_data[key]['max_obj_midpoint']\n",
    "            img_width, img_height = int(json_data[key]['width']), int(json_data[key]['height'])\n",
    "\n",
    "            if max_obj_area_portion:\n",
    "                img_file = json_data[key][\"file_name\"]\n",
    "                image_path = os.path.join(og_data_path, img_file)\n",
    "                segmentation = json_data[key]['max_obj_segment_points'][0] if seg_or_bbox == 'seg' else json_data[key]['max_obj_bbox']\n",
    "                json_data[key].pop('max_obj_segment_points', None) if seg_or_bbox == 'bbox' else json_data[key].pop('max_obj_bbox', None)\n",
    "\n",
    "                with Image.open(image_path) as image:\n",
    "                    if max_obj_area_portion > portion_threshold: # 물체가 이미지의 일정 비율 이상 차지하는 경우\n",
    "                        cropped_image = crop_polygon(image, segmentation, seg_or_bbox)\n",
    "                        cropped_image.save(os.path.join(save_data_path_obj, img_file))\n",
    "                        json_data[key][\"obj_bg\"] = \"obj\"\n",
    "                        num_obj_images += 1\n",
    "                    else:\n",
    "                        if center_check(max_obj_midpoint, img_width, img_height, center_threshold): # 빈 곳의 중심이 이미지의 중심에 가까운 경우\n",
    "                            removed_image = remove_polygon(image, segmentation,(0, 0, 0), seg_or_bbox)\n",
    "                            removed_image.save(os.path.join(save_data_path_bg, img_file))\n",
    "                            json_data[key][\"obj_bg\"] = \"bg\"\n",
    "                            num_bg_images += 1\n",
    "                        else: # 빈 곳의 중심이 이미지의 중심에 가깝지 않은 경우 (외곽에 위치한 경우)\n",
    "                            removed_image = remove_polygon(image, segmentation,(0, 0, 0), seg_or_bbox)\n",
    "                            removed_image.save(os.path.join(save_data_path_bg, img_file))\n",
    "                            json_data[key][\"obj_bg\"] = \"unusable_bg\"\n",
    "                            num_xbg_images += 1\n",
    "                        \n",
    "            else:  # max obj 비어있는 경우 (그냥 real bg로 저장)\n",
    "                json_data[key][\"obj_bg\"] = \"bg\"\n",
    "                img_file = json_data[key][\"file_name\"]\n",
    "                image_path = os.path.join(og_data_path, img_file)\n",
    "\n",
    "                with Image.open(image_path) as image:\n",
    "                    image.save(os.path.join(save_data_path_real_bg, img_file))\n",
    "                num_real_bg_images += 1\n",
    "        except Exception as e:\n",
    "            print(f\"Error processing image {json_data[key]['file_name']}: {e}\")\n",
    "    \n",
    "\n",
    "    print(f\"Number of object images {num_obj_images}\")\n",
    "    print(f\"Number of usable bg images : {num_bg_images}\")\n",
    "    print(f\"Number of unusable bg images : {num_xbg_images}\")\n",
    "    print(f\"Number of images in 'real_bg' folder: {num_real_bg_images}\")\n",
    "\n",
    "    print(\"Saving json file...\")\n",
    "    with open(os.path.join(json_file_path[:-5] + f\"_{portion_threshold}_{seg_or_bbox}_center_{center_threshold}.json\"), 'w') as outfile:\n",
    "        json.dump(json_data, outfile)\n",
    "    print(\"Done!\")"
   ]
  },
  {
   "cell_type": "code",
   "execution_count": 8,
   "metadata": {},
   "outputs": [
    {
     "name": "stderr",
     "output_type": "stream",
     "text": [
      "Processing images: 100%|██████████| 123287/123287 [15:44<00:00, 130.59it/s]\n"
     ]
    },
    {
     "name": "stdout",
     "output_type": "stream",
     "text": [
      "Number of object images 115053\n",
      "Number of usable bg images : 5521\n",
      "Number of unusable bg images : 1644\n",
      "Number of images in 'real_bg' folder: 1069\n",
      "Saving json file...\n",
      "Done!\n"
     ]
    }
   ],
   "source": [
    "og_data_path = \"./data/COCO/Images\"\n",
    "save_data_path = \"./data/COCO/Images\"\n",
    "json_file_path = \"./data/COCO/Annotations/coco_img_info.json\"\n",
    "seg_or_bbox= \"bbox\" \n",
    "portion_threshold=0.01 \n",
    "center_threshold=0.7\n",
    "obj_bg_div(json_file_path, og_data_path, save_data_path, seg_or_bbox, portion_threshold, center_threshold)"
   ]
  },
  {
   "cell_type": "code",
   "execution_count": 9,
   "metadata": {},
   "outputs": [],
   "source": [
    "#making a dictionary that key is obj_bg and value is img_id\n",
    "def make_obj_bg_dict(json_file_path):\n",
    "    with open(json_file_path) as json_file:\n",
    "        json_data = json.load(json_file)\n",
    "    obj_bg_dict = {}\n",
    "    for key in json_data:\n",
    "        if json_data[key][\"obj_bg\"] not in obj_bg_dict:\n",
    "            obj_bg_dict[json_data[key][\"obj_bg\"]] = [key]\n",
    "        else:\n",
    "            obj_bg_dict[json_data[key][\"obj_bg\"]].append(key)\n",
    "    return obj_bg_dict"
   ]
  },
  {
   "cell_type": "code",
   "execution_count": 10,
   "metadata": {},
   "outputs": [],
   "source": [
    "obj_bg_dict = make_obj_bg_dict(\"./data/COCO/Annotations/coco_img_info_0.01_bbox_center_0.7.json\")"
   ]
  },
  {
   "cell_type": "code",
   "execution_count": 12,
   "metadata": {},
   "outputs": [],
   "source": [
    "with open('./data/COCO/Annotations/coco_objbg_info_0.01_bbox_center_0.7.json','w') as f:\n",
    "    json.dump(obj_bg_dict,f)"
   ]
  }
 ],
 "metadata": {
  "kernelspec": {
   "display_name": "Python 3",
   "language": "python",
   "name": "python3"
  },
  "language_info": {
   "codemirror_mode": {
    "name": "ipython",
    "version": 3
   },
   "file_extension": ".py",
   "mimetype": "text/x-python",
   "name": "python",
   "nbconvert_exporter": "python",
   "pygments_lexer": "ipython3",
   "version": "3.8.10"
  },
  "orig_nbformat": 4
 },
 "nbformat": 4,
 "nbformat_minor": 2
}
