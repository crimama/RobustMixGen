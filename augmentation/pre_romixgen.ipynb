{
 "cells": [
  {
   "cell_type": "code",
   "execution_count": 1,
   "metadata": {},
   "outputs": [
    {
     "data": {
      "text/plain": [
       "'/workspace'"
      ]
     },
     "execution_count": 1,
     "metadata": {},
     "output_type": "execute_result"
    }
   ],
   "source": [
    "import os\n",
    "import json\n",
    "\n",
    "os.chdir('../')\n",
    "os.getcwd()"
   ]
  },
  {
   "cell_type": "code",
   "execution_count": 68,
   "metadata": {},
   "outputs": [],
   "source": [
    "from augmentation import RoMixGen_Img, RoMixGen_Txt\n",
    "import random"
   ]
  },
  {
   "cell_type": "code",
   "execution_count": 69,
   "metadata": {},
   "outputs": [],
   "source": [
    "RoMixGen_Img = RoMixGen_Img(image_dict = json.load(open('data/COCO/Annotations/coco_objbg_info_0.01_bbox_center_0.7.json')),\n",
    "                            image_root = 'data/COCO/Images_0.01_bbox_center_0.7',\n",
    "                            transform_after_mix = None,\n",
    "                            resize_ratio = 2)\n",
    "RoMixGen_Txt = RoMixGen_Txt(image_caption = json.load(open('data/COCO/Annotations/coco_objbg_info_0.01_bbox_center_0.7.json')))"
   ]
  },
  {
   "cell_type": "code",
   "execution_count": 5,
   "metadata": {},
   "outputs": [],
   "source": [
    "with open ('data/COCO/Annotations/coco_objbg_info_0.01_bbox_center_0.7.json') as f:\n",
    "    objbg_dict = json.load(f)\n",
    "with open ('data/COCO/Annotations/coco_img_info_0.01_bbox_center_0.7.json') as f:\n",
    "    image_dict = json.load(f)\n",
    "with open ('data/COCO/Annotations/coco.json') as f:\n",
    "    original_dataset = json.load(f)"
   ]
  },
  {
   "cell_type": "code",
   "execution_count": 74,
   "metadata": {},
   "outputs": [],
   "source": [
    "# make 123,287 romixed images and captions\n",
    "# new image id start from 000001 ~ 123287\n",
    "# save image to data/COCO/pre_romix_coco_0.01_bbox_center_0.7\n",
    "# save caption to data/COCO/Anotations/pre_romix_caption_0.01_bbox_center_0.7.json\n",
    "total_imagenum = 123287\n",
    "obj_ids = objbg_dict['obj']\n",
    "bg_ids = objbg_dict['bg']"
   ]
  },
  {
   "cell_type": "code",
   "execution_count": 9,
   "metadata": {},
   "outputs": [
    {
     "data": {
      "text/plain": [
       "dict_keys(['obj', 'unusable_bg', 'bg'])"
      ]
     },
     "execution_count": 9,
     "metadata": {},
     "output_type": "execute_result"
    }
   ],
   "source": [
    "for img_id in range (total_imagenum):\n",
    "    # random pop\n",
    "    obj_id = random.choiceobj_ids"
   ]
  },
  {
   "cell_type": "code",
   "execution_count": 62,
   "metadata": {},
   "outputs": [
    {
     "name": "stderr",
     "output_type": "stream",
     "text": [
      "/usr/local/lib/python3.8/dist-packages/transformers/generation/utils.py:1273: UserWarning: Neither `max_length` nor `max_new_tokens` has been set, `max_length` will default to 512 (`generation_config.max_length`). Controlling `max_length` via the config is deprecated and `max_length` will be removed from the config in v5 of Transformers -- we recommend using `max_new_tokens` to control the maximum length of the generation.\n",
      "  warnings.warn(\n"
     ]
    },
    {
     "data": {
      "text/plain": [
       "'A group of bike chairs stopped in front of a building, a group of chairs on bicy in front of a church., cyclists on the corner outside a church., children on bicycles outside a white church., several chairs on bicycles in front of a building.]'"
      ]
     },
     "execution_count": 62,
     "metadata": {},
     "output_type": "execute_result"
    }
   ],
   "source": [
    "back_translate(bg_new)"
   ]
  },
  {
   "cell_type": "code",
   "execution_count": 55,
   "metadata": {},
   "outputs": [
    {
     "data": {
      "text/plain": [
       "'furniture'"
      ]
     },
     "execution_count": 55,
     "metadata": {},
     "output_type": "execute_result"
    }
   ],
   "source": [
    "random.choice(obj_cats)"
   ]
  },
  {
   "cell_type": "code",
   "execution_count": null,
   "metadata": {},
   "outputs": [],
   "source": []
  }
 ],
 "metadata": {
  "kernelspec": {
   "display_name": "Python 3",
   "language": "python",
   "name": "python3"
  },
  "language_info": {
   "codemirror_mode": {
    "name": "ipython",
    "version": 3
   },
   "file_extension": ".py",
   "mimetype": "text/x-python",
   "name": "python",
   "nbconvert_exporter": "python",
   "pygments_lexer": "ipython3",
   "version": "3.8.10"
  },
  "orig_nbformat": 4
 },
 "nbformat": 4,
 "nbformat_minor": 2
}
