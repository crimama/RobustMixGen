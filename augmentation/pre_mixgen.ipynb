{
 "cells": [
  {
   "cell_type": "code",
   "execution_count": 1,
   "metadata": {},
   "outputs": [
    {
     "name": "stderr",
     "output_type": "stream",
     "text": [
      "/usr/local/lib/python3.8/dist-packages/tqdm/auto.py:22: TqdmWarning: IProgress not found. Please update jupyter and ipywidgets. See https://ipywidgets.readthedocs.io/en/stable/user_install.html\n",
      "  from .autonotebook import tqdm as notebook_tqdm\n"
     ]
    },
    {
     "data": {
      "text/plain": [
       "'/workspace'"
      ]
     },
     "execution_count": 1,
     "metadata": {},
     "output_type": "execute_result"
    }
   ],
   "source": [
    "import os\n",
    "import numpy as np\n",
    "import pandas as pd\n",
    "from mixgen import MixGen\n",
    "from torchvision import transforms\n",
    "import random\n",
    "from tqdm import tqdm\n",
    "import cv2\n",
    "from PIL import Image\n",
    "import json\n",
    "import torch\n",
    "os.chdir(\"../\")\n",
    "os.getcwd()"
   ]
  },
  {
   "cell_type": "code",
   "execution_count": 2,
   "metadata": {},
   "outputs": [
    {
     "name": "stderr",
     "output_type": "stream",
     "text": [
      "/usr/local/lib/python3.8/dist-packages/torchvision/transforms/transforms.py:891: UserWarning: Argument 'interpolation' of type int is deprecated since 0.13 and will be removed in 0.15. Please use InterpolationMode enum.\n",
      "  warnings.warn(\n"
     ]
    }
   ],
   "source": [
    "transform_after_mix = transforms.Compose([\n",
    "                                            transforms.RandomResizedCrop(256,scale=(0.5, 1.0), interpolation=Image.BICUBIC),\n",
    "                                            transforms.ToTensor(),\n",
    "                                            transforms.Normalize((0.48145466, 0.4578275, 0.40821073), (0.26862954, 0.26130258, 0.27577711)),\n",
    "                                        ])"
   ]
  },
  {
   "cell_type": "code",
   "execution_count": 3,
   "metadata": {},
   "outputs": [],
   "source": [
    "class MixGen:\n",
    "    def __init__(self,ann_file,image_root,transform,lam = 0.5):\n",
    "        self.ann_file   = json.load(open(ann_file,'r'))\n",
    "        self.image_root = image_root\n",
    "        self.transform  = transform \n",
    "        self.lam  = lam\n",
    "        \n",
    "    def __call__(self,ann):\n",
    "        ann1 = self.ann_file[ann]\n",
    "        image1 = Image.open(os.path.join(self.image_root,ann1['file_name']))\n",
    "        text1 = ann1['captions']\n",
    "        \n",
    "        ann2 = self.ann_file[np.random.choice(list(self.ann_file.keys()))]\n",
    "        image2 = Image.open(os.path.join(self.image_root,ann2['file_name']))\n",
    "        text2 = ann2['captions']\n",
    "        \n",
    "        image = self.lam * self.transform(image1) + (1-self.lam) * self.transform(image2)\n",
    "        text = [text1_i + ' ' + text2_i for text1_i, text2_i in zip(text1, text2)]\n",
    "        \n",
    "        return image,text\n"
   ]
  },
  {
   "cell_type": "code",
   "execution_count": 4,
   "metadata": {},
   "outputs": [],
   "source": [
    "Mixgen_ = MixGen(ann_file=\"data/COCO/Annotations/coco_img_info.json\", image_root = \"./data/COCO/Images\", transform=transform_after_mix, lam=0.5)"
   ]
  },
  {
   "cell_type": "code",
   "execution_count": 5,
   "metadata": {},
   "outputs": [],
   "source": [
    "total_imagenum = 10000\n",
    "classic_dataset = []\n",
    "new_dataset = {}\n",
    "with open(\"data/COCO/Annotations/coco_img_info.json\", \"r\") as f:\n",
    "    cocodata = json.load(f)"
   ]
  },
  {
   "cell_type": "code",
   "execution_count": 6,
   "metadata": {},
   "outputs": [
    {
     "name": "stderr",
     "output_type": "stream",
     "text": [
      "  8%|▊         | 10195/123287 [07:41<1:25:19, 22.09it/s]\n"
     ]
    }
   ],
   "source": [
    "if not os.path.exists(('data/COCO/pre_mixgen')):\n",
    "    os.makedirs(('data/COCO/pre_mixgen'))\n",
    "_= 0 \n",
    "for img_id in tqdm(list(cocodata.keys())):\n",
    "    try:\n",
    "        img, txt = Mixgen_(img_id)\n",
    "        img = torch.permute(img, (1,2,0)).detach().numpy()\n",
    "        img = (img - np.min(img)) / (np.max(img) - np.min(img))\n",
    "        img = img*255\n",
    "        # save image to data/COCO/pre_mixgen\n",
    "        cv2.imwrite(f\"data/COCO/pre_mixgen/{_:06d}.jpg\",  cv2.cvtColor(img, cv2.COLOR_RGB2BGR))\n",
    "        img_path = os.path.join(\"data/COCO/pre_mixgen\", f\"{_:06d}.jpg\")\n",
    "        classic_dataset.extend([{'caption': text, 'image': img_path, 'image_id': f\"coco_{_:06d}\"} for text in txt])\n",
    "        new_dataset.setdefault(str(_),[].extend(txt))\n",
    "        _+=1\n",
    "    except:\n",
    "        continue\n",
    "    if _%100 == 0:\n",
    "        with open(f\"data/COCO/Annotations/pre_mixgen.json\", \"w\") as f:\n",
    "            json.dump(classic_dataset, f)\n",
    "        with open(f\"data/COCO/Annotations/pre_mixgen_new.json\", \"w\") as f:\n",
    "            json.dump(new_dataset, f)\n",
    "    if _ > total_imagenum:\n",
    "        break"
   ]
  },
  {
   "cell_type": "code",
   "execution_count": 8,
   "metadata": {},
   "outputs": [
    {
     "data": {
      "text/plain": [
       "{'caption': 'A restaurant has modern wooden tables and chairs. A pizza that has two slices missing from it.',\n",
       " 'image': 'data/COCO/pre_mixgen/000000.jpg',\n",
       " 'image_id': 'coco_000000'}"
      ]
     },
     "execution_count": 8,
     "metadata": {},
     "output_type": "execute_result"
    }
   ],
   "source": [
    "classic_dataset[0]"
   ]
  },
  {
   "cell_type": "code",
   "execution_count": 11,
   "metadata": {},
   "outputs": [
    {
     "data": {
      "text/plain": [
       "array([[[224.7158  , 226.3084  , 222.0735  ],\n",
       "        [135.68645 , 143.10316 , 166.4231  ],\n",
       "        [132.3538  , 124.50435 , 146.01793 ],\n",
       "        ...,\n",
       "        [227.09627 , 231.69226 , 235.52235 ],\n",
       "        [220.90706 , 221.9034  , 225.78354 ],\n",
       "        [223.28754 , 224.35062 , 226.71103 ]],\n",
       "\n",
       "       [[134.73428 , 145.06093 , 176.16191 ],\n",
       "        [169.96513 , 158.27586 , 180.3357  ],\n",
       "        [192.8176  , 159.25478 , 127.93153 ],\n",
       "        ...,\n",
       "        [225.19191 , 236.09723 , 237.84111 ],\n",
       "        [221.85925 , 221.9034  , 224.85602 ],\n",
       "        [226.14409 , 227.77672 , 229.49356 ]],\n",
       "\n",
       "       [[174.24998 , 160.7231  , 176.62567 ],\n",
       "        [218.52661 , 185.68465 , 147.87294 ],\n",
       "        [196.15025 , 110.79995 , 120.975235],\n",
       "        ...,\n",
       "        [229.47676 , 235.60779 , 242.0149  ],\n",
       "        [221.38316 , 223.86118 , 227.63853 ],\n",
       "        [226.6202  , 230.22394 , 233.20358 ]],\n",
       "\n",
       "       ...,\n",
       "\n",
       "       [[122.83195 ,  83.39117 ,  88.04874 ],\n",
       "        [124.26022 ,  81.922844,  91.75876 ],\n",
       "        [127.59288 ,  84.370056,  94.07753 ],\n",
       "        ...,\n",
       "        [110.92963 , 124.50435 , 133.03284 ],\n",
       "        [134.73428 , 149.46591 , 153.43799 ],\n",
       "        [145.68442 , 163.65976 , 166.88683 ]],\n",
       "\n",
       "       [[134.25818 ,  97.09556 ,  98.715065],\n",
       "        [127.59288 ,  84.370056,  90.36751 ],\n",
       "        [129.97334 ,  89.75393 ,  95.468796],\n",
       "        ...,\n",
       "        [140.9235  , 159.7442  , 161.32181 ],\n",
       "        [158.53891 , 174.91693 , 177.55316 ],\n",
       "        [160.44328 , 174.91693 , 181.2632  ]],\n",
       "\n",
       "       [[138.06693 ,  94.648346, 114.48269 ],\n",
       "        [125.68851 ,  87.79615 ,  97.32381 ],\n",
       "        [127.59288 ,  84.370056,  90.36751 ],\n",
       "        ...,\n",
       "        [163.77594 , 181.76913 , 185.43698 ],\n",
       "        [167.58467 , 188.62132 , 190.53825 ],\n",
       "        [152.34972 , 167.08583 , 178.01692 ]]], dtype=float32)"
      ]
     },
     "execution_count": 11,
     "metadata": {},
     "output_type": "execute_result"
    }
   ],
   "source": [
    "img"
   ]
  },
  {
   "cell_type": "code",
   "execution_count": null,
   "metadata": {},
   "outputs": [],
   "source": []
  }
 ],
 "metadata": {
  "kernelspec": {
   "display_name": "Python 3",
   "language": "python",
   "name": "python3"
  },
  "language_info": {
   "codemirror_mode": {
    "name": "ipython",
    "version": 3
   },
   "file_extension": ".py",
   "mimetype": "text/x-python",
   "name": "python",
   "nbconvert_exporter": "python",
   "pygments_lexer": "ipython3",
   "version": "3.8.10"
  },
  "orig_nbformat": 4
 },
 "nbformat": 4,
 "nbformat_minor": 2
}
