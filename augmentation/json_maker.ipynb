{
 "cells": [
  {
   "cell_type": "code",
   "execution_count": 1,
   "metadata": {},
   "outputs": [
    {
     "data": {
      "text/plain": [
       "'/workspace'"
      ]
     },
     "execution_count": 1,
     "metadata": {},
     "output_type": "execute_result"
    }
   ],
   "source": [
    "from pycocotools.coco import COCO\n",
    "import os\n",
    "import json\n",
    "os.chdir(\"../\")\n",
    "os.getcwd()"
   ]
  },
  {
   "cell_type": "code",
   "execution_count": 2,
   "metadata": {},
   "outputs": [
    {
     "name": "stdout",
     "output_type": "stream",
     "text": [
      "loading annotations into memory...\n",
      "Done (t=8.22s)\n",
      "creating index...\n",
      "index created!\n",
      "loading annotations into memory...\n",
      "Done (t=4.45s)\n",
      "creating index...\n",
      "index created!\n"
     ]
    }
   ],
   "source": [
    "coco_train = COCO(\"./data/COCO/Annotations/instances_train2014.json\")\n",
    "coco_val = COCO(\"./data/COCO/Annotations/instances_val2014.json\")"
   ]
  },
  {
   "cell_type": "code",
   "execution_count": 3,
   "metadata": {},
   "outputs": [],
   "source": [
    "def get_img_info(coco_val):\n",
    "    outputs = {}\n",
    "    for i in coco_val.getImgIds():\n",
    "        img_info = {}\n",
    "        img_info['file_name'] = coco_val.loadImgs(i)[0]['file_name']\n",
    "        img_info['width'] = coco_val.loadImgs(i)[0]['width']\n",
    "        img_info['height'] = coco_val.loadImgs(i)[0]['height']\n",
    "        \n",
    "        ann_ids = coco_val.getAnnIds(imgIds=i, catIds=[], iscrowd=False)\n",
    "        anns = coco_val.loadAnns(ann_ids)\n",
    "        \n",
    "        img_info['objects_count'] = len(anns)\n",
    "        if not anns:\n",
    "            img_info.update({\n",
    "                'max_obj_id': None,\n",
    "                'max_obj_cat_id': None,\n",
    "                'max_obj_super_cat': None,\n",
    "                'max_obj_cat': None,\n",
    "                'max_obj_area': None,\n",
    "                'max_obj_midpoint': None,\n",
    "                'max_obj_bbox': None,\n",
    "                'max_obj_segment_points': None,\n",
    "                'max_obj_area_portion': None\n",
    "            })\n",
    "        else:\n",
    "            sorted_anns = sorted(anns, key=lambda x: x['area'], reverse=True)\n",
    "            max_ann = sorted_anns[0]\n",
    "            \n",
    "            img_info['max_obj_id'] = max_ann['id']\n",
    "            img_info['max_obj_cat_id'] = max_ann['category_id']\n",
    "            img_info['max_obj_super_cat'] = coco_val.cats[max_ann['category_id']]['supercategory']\n",
    "            img_info['max_obj_cat'] = coco_val.cats[max_ann['category_id']]['name']\n",
    "            img_info['max_obj_area'] = max_ann['area']\n",
    "            img_info['max_obj_midpoint'] = [max_ann['bbox'][0] + max_ann['bbox'][2] / 2, max_ann['bbox'][1] + max_ann['bbox'][3] / 2]\n",
    "            img_info['max_obj_bbox'] = max_ann['bbox']\n",
    "            img_info['max_obj_segment_points'] = max_ann['segmentation']\n",
    "            img_info['max_obj_area_portion'] = max_ann['area'] / (coco_val.loadImgs(i)[0]['height'] * coco_val.loadImgs(i)[0]['width'])\n",
    "        \n",
    "        outputs[i] = img_info\n",
    "        \n",
    "    return outputs"
   ]
  },
  {
   "cell_type": "code",
   "execution_count": 4,
   "metadata": {},
   "outputs": [],
   "source": [
    "output_val = get_img_info(coco_val)\n",
    "output_train = get_img_info(coco_train)\n",
    "output = {**output_train, **output_val}\n",
    "with open('./data/COCO/Annotations/coco_img_info.json', 'w') as f:\n",
    "    json.dump(output, f)"
   ]
  }
 ],
 "metadata": {
  "kernelspec": {
   "display_name": "Python 3",
   "language": "python",
   "name": "python3"
  },
  "language_info": {
   "codemirror_mode": {
    "name": "ipython",
    "version": 3
   },
   "file_extension": ".py",
   "mimetype": "text/x-python",
   "name": "python",
   "nbconvert_exporter": "python",
   "pygments_lexer": "ipython3",
   "version": "3.8.10"
  },
  "orig_nbformat": 4
 },
 "nbformat": 4,
 "nbformat_minor": 2
}
