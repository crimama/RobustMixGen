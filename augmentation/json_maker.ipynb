{
 "cells": [
  {
   "cell_type": "code",
   "execution_count": 1,
   "metadata": {},
   "outputs": [
    {
     "data": {
      "text/plain": [
       "'/workspace'"
      ]
     },
     "execution_count": 1,
     "metadata": {},
     "output_type": "execute_result"
    }
   ],
   "source": [
    "from pycocotools.coco import COCO\n",
    "import os\n",
    "import json\n",
    "os.chdir(\"../\")\n",
    "os.getcwd()"
   ]
  },
  {
   "cell_type": "code",
   "execution_count": 2,
   "metadata": {},
   "outputs": [
    {
     "name": "stdout",
     "output_type": "stream",
     "text": [
      "loading annotations into memory...\n",
      "Done (t=8.11s)\n",
      "creating index...\n",
      "index created!\n",
      "loading annotations into memory...\n",
      "Done (t=0.48s)\n",
      "creating index...\n",
      "index created!\n",
      "loading annotations into memory...\n",
      "Done (t=4.23s)\n",
      "creating index...\n",
      "index created!\n",
      "loading annotations into memory...\n",
      "Done (t=0.23s)\n",
      "creating index...\n",
      "index created!\n"
     ]
    }
   ],
   "source": [
    "coco_train = COCO(\"./data/COCO/Annotations/instances_train2014.json\")\n",
    "coco_train_cap = COCO(\"./data/COCO/Annotations/captions_train2014.json\")\n",
    "coco_val = COCO(\"./data/COCO/Annotations/instances_val2014.json\")\n",
    "coco_val_cap = COCO(\"./data/COCO/Annotations/captions_val2014.json\")"
   ]
  },
  {
   "cell_type": "code",
   "execution_count": 3,
   "metadata": {},
   "outputs": [
    {
     "data": {
      "text/plain": [
       "(82783, 40504)"
      ]
     },
     "execution_count": 3,
     "metadata": {},
     "output_type": "execute_result"
    }
   ],
   "source": [
    "#train image number\n",
    "len(coco_train.getImgIds()),len(coco_val.getImgIds())"
   ]
  },
  {
   "cell_type": "code",
   "execution_count": 4,
   "metadata": {},
   "outputs": [
    {
     "data": {
      "text/plain": [
       "(164063, 164063)"
      ]
     },
     "execution_count": 4,
     "metadata": {},
     "output_type": "execute_result"
    }
   ],
   "source": [
    "# image jpg file nubmer in folder\n",
    "len(os.listdir(\"./data/COCO/Images/\")),len(os.listdir(\"./data/COCO/Images/\"))"
   ]
  },
  {
   "cell_type": "code",
   "execution_count": 5,
   "metadata": {},
   "outputs": [
    {
     "name": "stdout",
     "output_type": "stream",
     "text": [
      "Average number of annotations per image in train:  7.307140354903785\n",
      "Average number of annotations per image in val:  7.206078412008691\n"
     ]
    }
   ],
   "source": [
    "# 한 이미지당 평균 annotation 개수\n",
    "print(\"Average number of annotations per image in train: \", len(coco_train.anns)/len(coco_train.imgs))\n",
    "print(\"Average number of annotations per image in val: \", len(coco_val.anns)/len(coco_val.imgs))"
   ]
  },
  {
   "cell_type": "code",
   "execution_count": 6,
   "metadata": {},
   "outputs": [
    {
     "name": "stdout",
     "output_type": "stream",
     "text": [
      "Super categories in train:  {'appliance', 'indoor', 'outdoor', 'kitchen', 'animal', 'person', 'sports', 'accessory', 'food', 'electronic', 'vehicle', 'furniture'}\n",
      "Super categories in val:  {'appliance', 'indoor', 'outdoor', 'kitchen', 'animal', 'person', 'sports', 'accessory', 'food', 'electronic', 'vehicle', 'furniture'}\n"
     ]
    }
   ],
   "source": [
    "# coco_train.cats 의 슈퍼 카테고리만 출력\n",
    "print(\"Super categories in train: \", set([coco_train.cats[cat_id][\"supercategory\"] for cat_id in coco_train.cats.keys()]))\n",
    "print(\"Super categories in val: \", set([coco_val.cats[cat_id][\"supercategory\"] for cat_id in coco_val.cats.keys()]))"
   ]
  },
  {
   "cell_type": "code",
   "execution_count": 7,
   "metadata": {},
   "outputs": [
    {
     "name": "stdout",
     "output_type": "stream",
     "text": [
      "Categories in train:  {'cow', 'toilet', 'surfboard', 'baseball glove', 'dog', 'giraffe', 'cat', 'cup', 'zebra', 'bird', 'hair drier', 'knife', 'vase', 'tv', 'chair', 'mouse', 'teddy bear', 'car', 'fork', 'oven', 'snowboard', 'banana', 'potted plant', 'donut', 'remote', 'refrigerator', 'airplane', 'bicycle', 'train', 'parking meter', 'horse', 'orange', 'toothbrush', 'bowl', 'keyboard', 'pizza', 'stop sign', 'microwave', 'laptop', 'bus', 'skis', 'motorcycle', 'bottle', 'cell phone', 'skateboard', 'broccoli', 'carrot', 'scissors', 'fire hydrant', 'apple', 'dining table', 'bear', 'spoon', 'hot dog', 'person', 'elephant', 'handbag', 'sheep', 'book', 'suitcase', 'kite', 'toaster', 'tennis racket', 'backpack', 'umbrella', 'truck', 'couch', 'sports ball', 'tie', 'bench', 'boat', 'clock', 'bed', 'wine glass', 'sandwich', 'frisbee', 'cake', 'baseball bat', 'traffic light', 'sink'}\n",
      "Categories in val:  {'cow', 'toilet', 'surfboard', 'baseball glove', 'dog', 'giraffe', 'cat', 'cup', 'zebra', 'bird', 'hair drier', 'knife', 'vase', 'tv', 'chair', 'mouse', 'teddy bear', 'car', 'fork', 'oven', 'snowboard', 'banana', 'potted plant', 'donut', 'remote', 'refrigerator', 'airplane', 'bicycle', 'train', 'parking meter', 'horse', 'orange', 'toothbrush', 'bowl', 'keyboard', 'pizza', 'stop sign', 'microwave', 'laptop', 'bus', 'skis', 'motorcycle', 'bottle', 'cell phone', 'skateboard', 'broccoli', 'carrot', 'scissors', 'fire hydrant', 'apple', 'dining table', 'bear', 'spoon', 'hot dog', 'person', 'elephant', 'handbag', 'sheep', 'book', 'suitcase', 'kite', 'toaster', 'tennis racket', 'backpack', 'umbrella', 'truck', 'couch', 'sports ball', 'tie', 'bench', 'boat', 'clock', 'bed', 'wine glass', 'sandwich', 'frisbee', 'cake', 'baseball bat', 'traffic light', 'sink'}\n"
     ]
    }
   ],
   "source": [
    "#일반 카테고리\n",
    "print(\"Categories in train: \", set([coco_train.cats[cat_id][\"name\"] for cat_id in coco_train.cats.keys()]))\n",
    "print(\"Categories in val: \", set([coco_val.cats[cat_id][\"name\"] for cat_id in coco_val.cats.keys()]))"
   ]
  },
  {
   "cell_type": "code",
   "execution_count": 8,
   "metadata": {},
   "outputs": [],
   "source": [
    "import random"
   ]
  },
  {
   "cell_type": "code",
   "execution_count": 9,
   "metadata": {},
   "outputs": [
    {
     "data": {
      "text/plain": [
       "{'license': 2,\n",
       " 'file_name': 'COCO_train2014_000000095989.jpg',\n",
       " 'coco_url': 'http://images.cocodataset.org/train2014/COCO_train2014_000000095989.jpg',\n",
       " 'height': 427,\n",
       " 'width': 640,\n",
       " 'date_captured': '2013-11-16 13:41:02',\n",
       " 'flickr_url': 'http://farm9.staticflickr.com/8390/8462634584_32c11c5e0c_z.jpg',\n",
       " 'id': 95989}"
      ]
     },
     "execution_count": 9,
     "metadata": {},
     "output_type": "execute_result"
    }
   ],
   "source": [
    "# load image 95989\n",
    "img_id = 95989\n",
    "img = coco_train.loadImgs(img_id)[0]\n",
    "img"
   ]
  },
  {
   "cell_type": "code",
   "execution_count": 10,
   "metadata": {},
   "outputs": [
    {
     "ename": "NameError",
     "evalue": "name 'io' is not defined",
     "output_type": "error",
     "traceback": [
      "\u001b[0;31m---------------------------------------------------------------------------\u001b[0m",
      "\u001b[0;31mNameError\u001b[0m                                 Traceback (most recent call last)",
      "Cell \u001b[0;32mIn[10], line 15\u001b[0m\n\u001b[1;32m     13\u001b[0m midpoint_max \u001b[39m=\u001b[39m [max_ann[\u001b[39m'\u001b[39m\u001b[39mbbox\u001b[39m\u001b[39m'\u001b[39m][\u001b[39m0\u001b[39m]\u001b[39m+\u001b[39mmax_ann[\u001b[39m'\u001b[39m\u001b[39mbbox\u001b[39m\u001b[39m'\u001b[39m][\u001b[39m2\u001b[39m]\u001b[39m/\u001b[39m\u001b[39m2\u001b[39m, max_ann[\u001b[39m'\u001b[39m\u001b[39mbbox\u001b[39m\u001b[39m'\u001b[39m][\u001b[39m1\u001b[39m]\u001b[39m+\u001b[39mmax_ann[\u001b[39m'\u001b[39m\u001b[39mbbox\u001b[39m\u001b[39m'\u001b[39m][\u001b[39m3\u001b[39m]\u001b[39m/\u001b[39m\u001b[39m2\u001b[39m]\n\u001b[1;32m     14\u001b[0m \u001b[39m# show image with mid rectangle\u001b[39;00m\n\u001b[0;32m---> 15\u001b[0m I \u001b[39m=\u001b[39m io\u001b[39m.\u001b[39mimread(img[\u001b[39m0\u001b[39m][\u001b[39m'\u001b[39m\u001b[39mcoco_url\u001b[39m\u001b[39m'\u001b[39m])\n\u001b[1;32m     16\u001b[0m plt\u001b[39m.\u001b[39mimshow(I)\n\u001b[1;32m     17\u001b[0m plt\u001b[39m.\u001b[39mplot([width_area[\u001b[39m0\u001b[39m], width_area[\u001b[39m1\u001b[39m], width_area[\u001b[39m1\u001b[39m], width_area[\u001b[39m0\u001b[39m], width_area[\u001b[39m0\u001b[39m]], [height_area[\u001b[39m0\u001b[39m], height_area[\u001b[39m0\u001b[39m], height_area[\u001b[39m1\u001b[39m], height_area[\u001b[39m1\u001b[39m], height_area[\u001b[39m0\u001b[39m]], linewidth\u001b[39m=\u001b[39m\u001b[39m2\u001b[39m, color\u001b[39m=\u001b[39m\u001b[39m'\u001b[39m\u001b[39mr\u001b[39m\u001b[39m'\u001b[39m)\n",
      "\u001b[0;31mNameError\u001b[0m: name 'io' is not defined"
     ]
    }
   ],
   "source": [
    "#load random image and segment its max object\n",
    "img = coco_train.loadImgs(95989) #574001, 341550\n",
    "#img = coco_train.loadImgs(random.choice(coco_train.getImgIds()))\n",
    "# draw a mid rectangle \n",
    "#width_area = [0+width*((1-thrs)/2), width-width*((1-thrs)/2)] ,height_area = [0+height*((1-thrs)/2), height-height*((1-thrs)/2)]\n",
    "# 70% zone \n",
    "width_area = [0+img[0][\"width\"]*((1-0.7)/2), img[0][\"width\"]-img[0][\"width\"]*((1-0.7)/2)]\n",
    "height_area = [0+img[0][\"height\"]*((1-0.7)/2), img[0][\"height\"]-img[0][\"height\"]*((1-0.7)/2)]\n",
    "# show mid point of max annotation\n",
    "annIds = coco_train.getAnnIds(imgIds=img[0]['id'], iscrowd=None)\n",
    "anns = coco_train.loadAnns(annIds)\n",
    "max_ann = max(anns, key=lambda x: x['area'])\n",
    "midpoint_max = [max_ann['bbox'][0]+max_ann['bbox'][2]/2, max_ann['bbox'][1]+max_ann['bbox'][3]/2]\n",
    "# show image with mid rectangle\n",
    "I = io.imread(img[0]['coco_url'])\n",
    "plt.imshow(I)\n",
    "plt.plot([width_area[0], width_area[1], width_area[1], width_area[0], width_area[0]], [height_area[0], height_area[0], height_area[1], height_area[1], height_area[0]], linewidth=2, color='r')\n",
    "# plot midpoint max with blue star with big size\n",
    "plt.plot(midpoint_max[0], midpoint_max[1], 'b*', markersize=15)\n",
    "plt.show()\n"
   ]
  },
  {
   "cell_type": "code",
   "execution_count": 11,
   "metadata": {},
   "outputs": [],
   "source": [
    "plural_map = {'person': 'people', 'bus': 'buses', 'bench':'benches','couch': 'couches', 'sandwich': 'sandwiches', 'scissors':'scissorses', 'knife':'knives', 'toothbrush':'toothbrushes'}\n",
    "\n",
    "def pluraliize(word):\n",
    "    if word in plural_map:\n",
    "        return plural_map[word]\n",
    "    else:\n",
    "        return word + 's'"
   ]
  },
  {
   "cell_type": "code",
   "execution_count": 12,
   "metadata": {},
   "outputs": [],
   "source": [
    "def get_img_info(coco, coco_cap):\n",
    "    outputs = {}\n",
    "    for i in coco.getImgIds():\n",
    "        img_info = {}\n",
    "        img_info['file_name'] = coco.loadImgs(i)[0]['file_name']\n",
    "        img_info['width'] = coco.loadImgs(i)[0]['width']\n",
    "        img_info['height'] = coco.loadImgs(i)[0]['height']\n",
    "        \n",
    "        ann_ids = coco.getAnnIds(imgIds=i, catIds=[], iscrowd=False)\n",
    "        anns = coco.loadAnns(ann_ids)\n",
    "                \n",
    "        img_info['objects_count'] = len(anns)\n",
    "        if not anns:\n",
    "            img_info.update({\n",
    "                'max_obj_id': None,\n",
    "                'max_obj_cat_id': None,\n",
    "                'max_obj_super_cat': None,\n",
    "                'max_obj_cat': None,\n",
    "                'max_obj_area': None,\n",
    "                'max_obj_midpoint': None,\n",
    "                'max_obj_bbox': None,\n",
    "                'max_obj_segment_points': None,\n",
    "                'max_obj_area_portion': None,\n",
    "                'captions': None,\n",
    "            })\n",
    "        else:\n",
    "            sorted_anns = sorted(anns, key=lambda x: x['area'], reverse=True)\n",
    "            max_ann = sorted_anns[0]\n",
    "            \n",
    "            img_info['max_obj_id'] = max_ann['id']\n",
    "            img_info['max_obj_cat_id'] = max_ann['category_id']\n",
    "            img_info['max_obj_super_cat'] = [coco.cats[max_ann['category_id']]['supercategory'], pluraliize(coco.cats[max_ann['category_id']]['supercategory'])]\n",
    "            img_info['max_obj_cat'] = coco.cats[max_ann['category_id']]['name'], pluraliize(coco.cats[max_ann['category_id']]['name'])\n",
    "            img_info['max_obj_area'] = max_ann['area']\n",
    "            img_info['max_obj_midpoint'] = [max_ann['bbox'][0] + max_ann['bbox'][2] / 2, max_ann['bbox'][1] + max_ann['bbox'][3] / 2]\n",
    "            img_info['max_obj_bbox'] = max_ann['bbox']\n",
    "            img_info['max_obj_segment_points'] = max_ann['segmentation']\n",
    "            img_info['max_obj_area_portion'] = max_ann['area'] / (coco.loadImgs(i)[0]['height'] * coco.loadImgs(i)[0]['width'])\n",
    "            img_info[\"captions\"] = [coco_cap.anns[annId][\"caption\"] for annId in coco_cap.getAnnIds(imgIds=i)]\n",
    "        \n",
    "        outputs[i] = img_info\n",
    "        \n",
    "    return outputs"
   ]
  },
  {
   "cell_type": "code",
   "execution_count": 13,
   "metadata": {},
   "outputs": [],
   "source": [
    "output_val = get_img_info(coco_val, coco_val_cap)\n",
    "output_train = get_img_info(coco_train, coco_train_cap)\n",
    "output = {**output_train, **output_val}\n",
    "with open('./data/COCO/Annotations/coco_img_info.json', 'w') as f:\n",
    "    json.dump(output, f)"
   ]
  },
  {
   "cell_type": "code",
   "execution_count": 14,
   "metadata": {},
   "outputs": [],
   "source": [
    "with open('./data/COCO/Annotations/coco_img_info.json', 'w') as f:\n",
    "    json.dump(output, f)"
   ]
  },
  {
   "cell_type": "code",
   "execution_count": null,
   "metadata": {},
   "outputs": [],
   "source": []
  }
 ],
 "metadata": {
  "kernelspec": {
   "display_name": "Python 3",
   "language": "python",
   "name": "python3"
  },
  "language_info": {
   "codemirror_mode": {
    "name": "ipython",
    "version": 3
   },
   "file_extension": ".py",
   "mimetype": "text/x-python",
   "name": "python",
   "nbconvert_exporter": "python",
   "pygments_lexer": "ipython3",
   "version": "3.8.13"
  },
  "orig_nbformat": 4
 },
 "nbformat": 4,
 "nbformat_minor": 2
}
