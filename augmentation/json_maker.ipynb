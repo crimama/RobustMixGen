{
 "cells": [
  {
   "cell_type": "code",
   "execution_count": 1,
   "metadata": {},
   "outputs": [],
   "source": [
    "from pycocotools.coco import COCO\n",
    "import os\n",
    "import json\n",
    "os.chdir(\"../\")"
   ]
  },
  {
   "cell_type": "code",
   "execution_count": 2,
   "metadata": {},
   "outputs": [
    {
     "name": "stdout",
     "output_type": "stream",
     "text": [
      "loading annotations into memory...\n",
      "Done (t=7.78s)\n",
      "creating index...\n",
      "index created!\n",
      "loading annotations into memory...\n",
      "Done (t=4.13s)\n",
      "creating index...\n",
      "index created!\n"
     ]
    }
   ],
   "source": [
    "coco_train = COCO(\"./data/Annotations/coco/instances_train2014.json\")\n",
    "coco_val = COCO(\"./data/Annotations/coco/instances_val2014.json\")"
   ]
  },
  {
   "cell_type": "code",
   "execution_count": 3,
   "metadata": {},
   "outputs": [],
   "source": [
    "def get_img_info(coco_val):\n",
    "    outputs = []\n",
    "    for i in coco_val.getImgIds():\n",
    "        img_info = {}\n",
    "        img_info['img_id'] = i\n",
    "        img_info['file_name'] = coco_val.loadImgs(i)[0]['file_name']\n",
    "        img_info['width'] = coco_val.loadImgs(i)[0]['width']\n",
    "        img_info['height'] = coco_val.loadImgs(i)[0]['height']\n",
    "        \n",
    "        ann_ids = coco_val.getAnnIds(imgIds=i, catIds=[], iscrowd=False)\n",
    "        anns = coco_val.loadAnns(ann_ids)\n",
    "        \n",
    "        img_info['objects_count'] = len(anns)\n",
    "        if not anns:\n",
    "            img_info.update({\n",
    "                'max_obj_id': None,\n",
    "                'max_obj_cat_id': None,\n",
    "                'max_obj_area': None,\n",
    "                'max_obj_midpoint': None,\n",
    "                'max_obj_bbox': None,\n",
    "                'max_obj_segment_points': None,\n",
    "                'max_obj_area_portion': None\n",
    "            })\n",
    "        else:\n",
    "            sorted_anns = sorted(anns, key=lambda x: x['area'], reverse=True)\n",
    "            max_ann = sorted_anns[0]\n",
    "            \n",
    "            img_info['max_obj_id'] = max_ann['id']\n",
    "            img_info['max_obj_cat_id'] = max_ann['category_id']\n",
    "            img_info['max_obj_area'] = max_ann['area']\n",
    "            img_info['max_obj_midpoint'] = [max_ann['bbox'][0] + max_ann['bbox'][2] / 2, max_ann['bbox'][1] + max_ann['bbox'][3] / 2]\n",
    "            img_info['max_obj_bbox'] = max_ann['bbox']\n",
    "            img_info['max_obj_segment_points'] = max_ann['segmentation']\n",
    "            img_info['max_obj_area_portion'] = max_ann['area'] / (coco_val.loadImgs(i)[0]['height'] * coco_val.loadImgs(i)[0]['width'])\n",
    "        \n",
    "        outputs.append(img_info)\n",
    "        \n",
    "    return outputs"
   ]
  },
  {
   "cell_type": "code",
   "execution_count": 4,
   "metadata": {},
   "outputs": [],
   "source": [
    "outputs = get_img_info(coco_val)\n",
    "with open (\"./data/Annotations/coco/val2014_rmg.json\", \"w\") as f:\n",
    "    json.dump(outputs, f)"
   ]
  },
  {
   "cell_type": "code",
   "execution_count": 5,
   "metadata": {},
   "outputs": [],
   "source": [
    "outputs = get_img_info(coco_train)\n",
    "with open (\"./data/Annotations/coco/train2014_rmg.json\", \"w\") as f:\n",
    "    json.dump(outputs, f)"
   ]
  },
  {
   "cell_type": "code",
   "execution_count": 6,
   "metadata": {},
   "outputs": [
    {
     "data": {
      "text/plain": [
       "{'img_id': 57870,\n",
       " 'file_name': 'COCO_train2014_000000057870.jpg',\n",
       " 'width': 640,\n",
       " 'height': 480,\n",
       " 'objects_count': 17,\n",
       " 'max_obj_id': 2190436,\n",
       " 'max_obj_cat_id': 62,\n",
       " 'max_obj_area': 23717.007900000004,\n",
       " 'max_obj_midpoint': [176.59, 375.745],\n",
       " 'max_obj_bbox': [90.67, 271.49, 171.84, 208.51],\n",
       " 'max_obj_segment_points': [[91.48,\n",
       "   476.07,\n",
       "   90.67,\n",
       "   425.33,\n",
       "   130.76,\n",
       "   394.24,\n",
       "   126.67,\n",
       "   374.6,\n",
       "   116.85,\n",
       "   348.41,\n",
       "   119.31,\n",
       "   326.32,\n",
       "   136.49,\n",
       "   297.68,\n",
       "   161.86,\n",
       "   281.31,\n",
       "   189.68,\n",
       "   271.49,\n",
       "   217.5,\n",
       "   272.31,\n",
       "   247.78,\n",
       "   287.86,\n",
       "   262.51,\n",
       "   310.77,\n",
       "   259.24,\n",
       "   327.95,\n",
       "   255.96,\n",
       "   348.41,\n",
       "   243.69,\n",
       "   372.14,\n",
       "   228.96,\n",
       "   404.87,\n",
       "   223.23,\n",
       "   432.7,\n",
       "   236.32,\n",
       "   480.0,\n",
       "   217.5,\n",
       "   477.7,\n",
       "   204.41,\n",
       "   437.61,\n",
       "   193.77,\n",
       "   431.06,\n",
       "   191.32,\n",
       "   474.43,\n",
       "   182.32,\n",
       "   478.52,\n",
       "   163.49,\n",
       "   478.52,\n",
       "   173.31,\n",
       "   453.97,\n",
       "   174.13,\n",
       "   435.15,\n",
       "   161.86,\n",
       "   453.97,\n",
       "   155.31,\n",
       "   480.0,\n",
       "   136.49,\n",
       "   480.0,\n",
       "   129.94,\n",
       "   473.61,\n",
       "   127.49,\n",
       "   464.61,\n",
       "   121.76,\n",
       "   456.43,\n",
       "   116.03,\n",
       "   449.88,\n",
       "   108.67,\n",
       "   446.61,\n",
       "   107.03,\n",
       "   476.88,\n",
       "   97.21,\n",
       "   476.88]],\n",
       " 'max_obj_area_portion': 0.07720380175781251}"
      ]
     },
     "execution_count": 6,
     "metadata": {},
     "output_type": "execute_result"
    }
   ],
   "source": [
    "outputs = get_img_info(coco_train)\n",
    "outputs[0]"
   ]
  },
  {
   "cell_type": "code",
   "execution_count": null,
   "metadata": {},
   "outputs": [],
   "source": []
  }
 ],
 "metadata": {
  "kernelspec": {
   "display_name": "Python 3",
   "language": "python",
   "name": "python3"
  },
  "language_info": {
   "codemirror_mode": {
    "name": "ipython",
    "version": 3
   },
   "file_extension": ".py",
   "mimetype": "text/x-python",
   "name": "python",
   "nbconvert_exporter": "python",
   "pygments_lexer": "ipython3",
   "version": "3.8.10"
  },
  "orig_nbformat": 4
 },
 "nbformat": 4,
 "nbformat_minor": 2
}
