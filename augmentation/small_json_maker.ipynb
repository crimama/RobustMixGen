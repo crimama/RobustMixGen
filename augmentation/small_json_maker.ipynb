{
 "cells": [
  {
   "cell_type": "code",
   "execution_count": 1,
   "metadata": {},
   "outputs": [
    {
     "data": {
      "text/plain": [
       "'/workspace'"
      ]
     },
     "execution_count": 1,
     "metadata": {},
     "output_type": "execute_result"
    }
   ],
   "source": [
    "import json\n",
    "import os\n",
    "import re\n",
    "os.chdir(\"../\")\n",
    "os.getcwd()"
   ]
  },
  {
   "cell_type": "code",
   "execution_count": 4,
   "metadata": {},
   "outputs": [],
   "source": [
    "original_json = json.load(open('./data/COCO/Annotations/coco_img_info.json'))\n",
    "small_train_json = json.load(open('./data/COCO/Annotations/small_coco_train_0.1.json'))\n",
    "small_val_json = json.load(open('./data/COCO/Annotations/small_coco_valid_0.3.json'))\n",
    "small_test_json = json.load(open('./data/COCO/Annotations/small_coco_test_0.01.json'))"
   ]
  },
  {
   "cell_type": "code",
   "execution_count": 32,
   "metadata": {},
   "outputs": [],
   "source": [
    "output_json = {}\n",
    "for item in small_train_json:\n",
    "    output_json[item['image_id'][5:]] = original_json[item['image_id'][5:]]"
   ]
  },
  {
   "cell_type": "code",
   "execution_count": 36,
   "metadata": {},
   "outputs": [],
   "source": [
    "for item in small_val_json:\n",
    "    item_id = str(int(re.sub(r'val2014/COCO_val2014_','',item['image'])[:-4]))\n",
    "    output_json[item_id] = original_json[item_id]"
   ]
  },
  {
   "cell_type": "code",
   "execution_count": 46,
   "metadata": {},
   "outputs": [],
   "source": [
    "for item in small_test_json:\n",
    "    item_id = str(int(re.sub(r'val2014/COCO_val2014_','',item['image'])[:-4]))\n",
    "    output_json[item_id] = original_json[item_id]"
   ]
  },
  {
   "cell_type": "code",
   "execution_count": 48,
   "metadata": {},
   "outputs": [],
   "source": [
    "#json dump  \n",
    "with open('./data/COCO/Annotations/coco_img_info_small.json', 'w') as outfile:\n",
    "    json.dump(output_json, outfile)"
   ]
  },
  {
   "cell_type": "code",
   "execution_count": null,
   "metadata": {},
   "outputs": [],
   "source": []
  }
 ],
 "metadata": {
  "kernelspec": {
   "display_name": "Python 3",
   "language": "python",
   "name": "python3"
  },
  "language_info": {
   "codemirror_mode": {
    "name": "ipython",
    "version": 3
   },
   "file_extension": ".py",
   "mimetype": "text/x-python",
   "name": "python",
   "nbconvert_exporter": "python",
   "pygments_lexer": "ipython3",
   "version": "3.8.10"
  },
  "orig_nbformat": 4
 },
 "nbformat": 4,
 "nbformat_minor": 2
}
