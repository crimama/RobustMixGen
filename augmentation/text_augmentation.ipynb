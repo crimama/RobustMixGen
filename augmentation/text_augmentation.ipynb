{
 "cells": [
  {
   "cell_type": "code",
   "execution_count": 107,
   "metadata": {},
   "outputs": [],
   "source": [
    "import json\n",
    "from pycocotools.coco import COCO\n",
    "import os\n",
    "import pandas as pd\n",
    "from transformers import MarianMTModel, MarianTokenizer"
   ]
  },
  {
   "cell_type": "code",
   "execution_count": 108,
   "metadata": {},
   "outputs": [],
   "source": [
    "def back_translation(text, first_model, first_model_tokenizer, second_model, second_model_tokenizer):\n",
    "    \n",
    "    fisrt_formed_text = f\">>fr<< {text}\"\n",
    "    first_translated = first_model.generate(**first_model_tokenizer(fisrt_formed_text, return_tensors=\"pt\", padding=True))\n",
    "    first_translated_text = first_model_tokenizer.decode(first_translated[0], skip_special_tokens=True)\n",
    "    second_formed_text = f\">>en<< {first_translated_text}\"\n",
    "    second_translated = second_model.generate(**second_model_tokenizer(second_formed_text, return_tensors=\"pt\", padding=True))\n",
    "    second_translated_text = second_model_tokenizer.decode(second_translated[0], skip_special_tokens=True)\n",
    "    \n",
    "    return second_translated_text"
   ]
  },
  {
   "cell_type": "code",
   "execution_count": 109,
   "metadata": {},
   "outputs": [],
   "source": [
    "first_model_name = 'Helsinki-NLP/opus-mt-en-fr'\n",
    "first_model_tokenizer = MarianTokenizer.from_pretrained(first_model_name)\n",
    "first_model = MarianMTModel.from_pretrained(first_model_name)\n",
    "second_model_name = 'Helsinki-NLP/opus-mt-fr-en'\n",
    "second_model_tokenizer = MarianTokenizer.from_pretrained(second_model_name)\n",
    "second_model = MarianMTModel.from_pretrained(second_model_name)"
   ]
  },
  {
   "cell_type": "code",
   "execution_count": 110,
   "metadata": {},
   "outputs": [],
   "source": [
    "import json\n",
    "import pandas as pd\n",
    "\n",
    "json_path = \"/root/RobustMixGen_past/data/coco_train.json\"\n",
    "\n",
    "with open(json_path, 'r') as file:\n",
    "    data = json.load(file)\n",
    "\n",
    "json_df = pd.DataFrame(data)"
   ]
  },
  {
   "cell_type": "code",
   "execution_count": 111,
   "metadata": {},
   "outputs": [],
   "source": [
    "train_label_path = \"/root/RobustMixGen/data/COCO/class_super_class/train2014_rmg.json\"\n",
    "with open(train_label_path, 'r') as file:\n",
    "    data = json.load(file)\n",
    "\n",
    "train_label = pd.DataFrame(data)"
   ]
  },
  {
   "cell_type": "code",
   "execution_count": 214,
   "metadata": {},
   "outputs": [
    {
     "data": {
      "text/html": [
       "<div>\n",
       "<style scoped>\n",
       "    .dataframe tbody tr th:only-of-type {\n",
       "        vertical-align: middle;\n",
       "    }\n",
       "\n",
       "    .dataframe tbody tr th {\n",
       "        vertical-align: top;\n",
       "    }\n",
       "\n",
       "    .dataframe thead th {\n",
       "        text-align: right;\n",
       "    }\n",
       "</style>\n",
       "<table border=\"1\" class=\"dataframe\">\n",
       "  <thead>\n",
       "    <tr style=\"text-align: right;\">\n",
       "      <th></th>\n",
       "      <th>img_id</th>\n",
       "      <th>file_name</th>\n",
       "      <th>width</th>\n",
       "      <th>height</th>\n",
       "      <th>objects_count</th>\n",
       "      <th>max_obj_id</th>\n",
       "      <th>max_obj_cat_id</th>\n",
       "      <th>max_obj_super_cat</th>\n",
       "      <th>max_obj_cat</th>\n",
       "      <th>max_obj_area</th>\n",
       "      <th>max_obj_midpoint</th>\n",
       "      <th>max_obj_bbox</th>\n",
       "      <th>max_obj_segment_points</th>\n",
       "      <th>max_obj_area_portion</th>\n",
       "      <th>plural</th>\n",
       "    </tr>\n",
       "  </thead>\n",
       "  <tbody>\n",
       "    <tr>\n",
       "      <th>0</th>\n",
       "      <td>57870</td>\n",
       "      <td>COCO_train2014_000000057870.jpg</td>\n",
       "      <td>640</td>\n",
       "      <td>480</td>\n",
       "      <td>17</td>\n",
       "      <td>2190436.0</td>\n",
       "      <td>62.0</td>\n",
       "      <td>furniture</td>\n",
       "      <td>chair</td>\n",
       "      <td>23717.00790</td>\n",
       "      <td>[176.59, 375.745]</td>\n",
       "      <td>[90.67, 271.49, 171.84, 208.51]</td>\n",
       "      <td>[[91.48, 476.07, 90.67, 425.33, 130.76, 394.24...</td>\n",
       "      <td>0.077204</td>\n",
       "      <td>chairs</td>\n",
       "    </tr>\n",
       "    <tr>\n",
       "      <th>1</th>\n",
       "      <td>384029</td>\n",
       "      <td>COCO_train2014_000000384029.jpg</td>\n",
       "      <td>640</td>\n",
       "      <td>429</td>\n",
       "      <td>14</td>\n",
       "      <td>423921.0</td>\n",
       "      <td>1.0</td>\n",
       "      <td>person</td>\n",
       "      <td>person</td>\n",
       "      <td>87957.80790</td>\n",
       "      <td>[243.905, 154.24499999999998]</td>\n",
       "      <td>[4.82, 2.89, 478.17, 302.71]</td>\n",
       "      <td>[[215.95, 293.07, 182.2, 241.01, 182.2, 209.2,...</td>\n",
       "      <td>0.320359</td>\n",
       "      <td>persons</td>\n",
       "    </tr>\n",
       "    <tr>\n",
       "      <th>2</th>\n",
       "      <td>222016</td>\n",
       "      <td>COCO_train2014_000000222016.jpg</td>\n",
       "      <td>480</td>\n",
       "      <td>640</td>\n",
       "      <td>1</td>\n",
       "      <td>459512.0</td>\n",
       "      <td>1.0</td>\n",
       "      <td>person</td>\n",
       "      <td>person</td>\n",
       "      <td>32991.66165</td>\n",
       "      <td>[288.43, 390.96]</td>\n",
       "      <td>[225.29, 185.04, 126.28, 411.84]</td>\n",
       "      <td>[[256.86, 566.74, 232.47, 561.0, 239.64, 523.7...</td>\n",
       "      <td>0.107395</td>\n",
       "      <td>persons</td>\n",
       "    </tr>\n",
       "    <tr>\n",
       "      <th>3</th>\n",
       "      <td>520950</td>\n",
       "      <td>COCO_train2014_000000520950.jpg</td>\n",
       "      <td>640</td>\n",
       "      <td>427</td>\n",
       "      <td>18</td>\n",
       "      <td>1124706.0</td>\n",
       "      <td>79.0</td>\n",
       "      <td>appliance</td>\n",
       "      <td>oven</td>\n",
       "      <td>18047.51420</td>\n",
       "      <td>[142.815, 366.89]</td>\n",
       "      <td>[50.97, 309.67, 183.69, 114.44]</td>\n",
       "      <td>[[100.02, 310.63, 50.97, 351.99, 52.89, 424.11...</td>\n",
       "      <td>0.066040</td>\n",
       "      <td>ovens</td>\n",
       "    </tr>\n",
       "    <tr>\n",
       "      <th>4</th>\n",
       "      <td>69675</td>\n",
       "      <td>COCO_train2014_000000069675.jpg</td>\n",
       "      <td>640</td>\n",
       "      <td>480</td>\n",
       "      <td>8</td>\n",
       "      <td>1726664.0</td>\n",
       "      <td>1.0</td>\n",
       "      <td>person</td>\n",
       "      <td>person</td>\n",
       "      <td>71105.37880</td>\n",
       "      <td>[437.39, 258.875]</td>\n",
       "      <td>[309.57, 44.22, 255.64, 429.31]</td>\n",
       "      <td>[[522.07, 471.37, 529.62, 453.03, 541.48, 444....</td>\n",
       "      <td>0.231463</td>\n",
       "      <td>persons</td>\n",
       "    </tr>\n",
       "    <tr>\n",
       "      <th>...</th>\n",
       "      <td>...</td>\n",
       "      <td>...</td>\n",
       "      <td>...</td>\n",
       "      <td>...</td>\n",
       "      <td>...</td>\n",
       "      <td>...</td>\n",
       "      <td>...</td>\n",
       "      <td>...</td>\n",
       "      <td>...</td>\n",
       "      <td>...</td>\n",
       "      <td>...</td>\n",
       "      <td>...</td>\n",
       "      <td>...</td>\n",
       "      <td>...</td>\n",
       "      <td>...</td>\n",
       "    </tr>\n",
       "    <tr>\n",
       "      <th>82778</th>\n",
       "      <td>444010</td>\n",
       "      <td>COCO_train2014_000000444010.jpg</td>\n",
       "      <td>640</td>\n",
       "      <td>480</td>\n",
       "      <td>51</td>\n",
       "      <td>390340.0</td>\n",
       "      <td>67.0</td>\n",
       "      <td>furniture</td>\n",
       "      <td>dining table</td>\n",
       "      <td>88555.58315</td>\n",
       "      <td>[250.78500000000003, 349.48]</td>\n",
       "      <td>[1.08, 220.04, 499.41, 258.88]</td>\n",
       "      <td>[[1.08, 308.49, 240.54, 220.04, 500.49, 344.09...</td>\n",
       "      <td>0.288267</td>\n",
       "      <td>dining tables</td>\n",
       "    </tr>\n",
       "    <tr>\n",
       "      <th>82779</th>\n",
       "      <td>565004</td>\n",
       "      <td>COCO_train2014_000000565004.jpg</td>\n",
       "      <td>640</td>\n",
       "      <td>427</td>\n",
       "      <td>7</td>\n",
       "      <td>661746.0</td>\n",
       "      <td>46.0</td>\n",
       "      <td>kitchen</td>\n",
       "      <td>wine glass</td>\n",
       "      <td>36686.44230</td>\n",
       "      <td>[329.975, 287.025]</td>\n",
       "      <td>[244.07, 147.05, 171.81, 279.95]</td>\n",
       "      <td>[[319.37, 427.0, 317.34, 410.83, 314.82, 404.2...</td>\n",
       "      <td>0.134245</td>\n",
       "      <td>wine glasss</td>\n",
       "    </tr>\n",
       "    <tr>\n",
       "      <th>82780</th>\n",
       "      <td>516168</td>\n",
       "      <td>COCO_train2014_000000516168.jpg</td>\n",
       "      <td>640</td>\n",
       "      <td>480</td>\n",
       "      <td>40</td>\n",
       "      <td>1616408.0</td>\n",
       "      <td>67.0</td>\n",
       "      <td>furniture</td>\n",
       "      <td>dining table</td>\n",
       "      <td>100458.80335</td>\n",
       "      <td>[320.0, 380.975]</td>\n",
       "      <td>[0.0, 288.75, 640.0, 184.45]</td>\n",
       "      <td>[[44.22, 288.75, 92.76, 297.38, 147.78, 304.93...</td>\n",
       "      <td>0.327014</td>\n",
       "      <td>dining tables</td>\n",
       "    </tr>\n",
       "    <tr>\n",
       "      <th>82781</th>\n",
       "      <td>547503</td>\n",
       "      <td>COCO_train2014_000000547503.jpg</td>\n",
       "      <td>500</td>\n",
       "      <td>375</td>\n",
       "      <td>13</td>\n",
       "      <td>2158193.0</td>\n",
       "      <td>1.0</td>\n",
       "      <td>person</td>\n",
       "      <td>person</td>\n",
       "      <td>32523.35120</td>\n",
       "      <td>[62.34, 190.91]</td>\n",
       "      <td>[0.0, 21.43, 124.68, 338.96]</td>\n",
       "      <td>[[1.95, 21.43, 41.88, 33.12, 61.36, 65.26, 64....</td>\n",
       "      <td>0.173458</td>\n",
       "      <td>persons</td>\n",
       "    </tr>\n",
       "    <tr>\n",
       "      <th>82782</th>\n",
       "      <td>475546</td>\n",
       "      <td>COCO_train2014_000000475546.jpg</td>\n",
       "      <td>500</td>\n",
       "      <td>375</td>\n",
       "      <td>13</td>\n",
       "      <td>523544.0</td>\n",
       "      <td>1.0</td>\n",
       "      <td>person</td>\n",
       "      <td>person</td>\n",
       "      <td>24938.94505</td>\n",
       "      <td>[64.89, 233.85]</td>\n",
       "      <td>[0.0, 96.91, 129.78, 273.88]</td>\n",
       "      <td>[[0.0, 101.97, 14.33, 96.91, 30.34, 96.91, 42....</td>\n",
       "      <td>0.133008</td>\n",
       "      <td>persons</td>\n",
       "    </tr>\n",
       "  </tbody>\n",
       "</table>\n",
       "<p>82783 rows × 15 columns</p>\n",
       "</div>"
      ],
      "text/plain": [
       "       img_id                        file_name  width  height  objects_count  \\\n",
       "0       57870  COCO_train2014_000000057870.jpg    640     480             17   \n",
       "1      384029  COCO_train2014_000000384029.jpg    640     429             14   \n",
       "2      222016  COCO_train2014_000000222016.jpg    480     640              1   \n",
       "3      520950  COCO_train2014_000000520950.jpg    640     427             18   \n",
       "4       69675  COCO_train2014_000000069675.jpg    640     480              8   \n",
       "...       ...                              ...    ...     ...            ...   \n",
       "82778  444010  COCO_train2014_000000444010.jpg    640     480             51   \n",
       "82779  565004  COCO_train2014_000000565004.jpg    640     427              7   \n",
       "82780  516168  COCO_train2014_000000516168.jpg    640     480             40   \n",
       "82781  547503  COCO_train2014_000000547503.jpg    500     375             13   \n",
       "82782  475546  COCO_train2014_000000475546.jpg    500     375             13   \n",
       "\n",
       "       max_obj_id  max_obj_cat_id max_obj_super_cat   max_obj_cat  \\\n",
       "0       2190436.0            62.0         furniture         chair   \n",
       "1        423921.0             1.0            person        person   \n",
       "2        459512.0             1.0            person        person   \n",
       "3       1124706.0            79.0         appliance          oven   \n",
       "4       1726664.0             1.0            person        person   \n",
       "...           ...             ...               ...           ...   \n",
       "82778    390340.0            67.0         furniture  dining table   \n",
       "82779    661746.0            46.0           kitchen    wine glass   \n",
       "82780   1616408.0            67.0         furniture  dining table   \n",
       "82781   2158193.0             1.0            person        person   \n",
       "82782    523544.0             1.0            person        person   \n",
       "\n",
       "       max_obj_area               max_obj_midpoint  \\\n",
       "0       23717.00790              [176.59, 375.745]   \n",
       "1       87957.80790  [243.905, 154.24499999999998]   \n",
       "2       32991.66165               [288.43, 390.96]   \n",
       "3       18047.51420              [142.815, 366.89]   \n",
       "4       71105.37880              [437.39, 258.875]   \n",
       "...             ...                            ...   \n",
       "82778   88555.58315   [250.78500000000003, 349.48]   \n",
       "82779   36686.44230             [329.975, 287.025]   \n",
       "82780  100458.80335               [320.0, 380.975]   \n",
       "82781   32523.35120                [62.34, 190.91]   \n",
       "82782   24938.94505                [64.89, 233.85]   \n",
       "\n",
       "                           max_obj_bbox  \\\n",
       "0       [90.67, 271.49, 171.84, 208.51]   \n",
       "1          [4.82, 2.89, 478.17, 302.71]   \n",
       "2      [225.29, 185.04, 126.28, 411.84]   \n",
       "3       [50.97, 309.67, 183.69, 114.44]   \n",
       "4       [309.57, 44.22, 255.64, 429.31]   \n",
       "...                                 ...   \n",
       "82778    [1.08, 220.04, 499.41, 258.88]   \n",
       "82779  [244.07, 147.05, 171.81, 279.95]   \n",
       "82780      [0.0, 288.75, 640.0, 184.45]   \n",
       "82781      [0.0, 21.43, 124.68, 338.96]   \n",
       "82782      [0.0, 96.91, 129.78, 273.88]   \n",
       "\n",
       "                                  max_obj_segment_points  \\\n",
       "0      [[91.48, 476.07, 90.67, 425.33, 130.76, 394.24...   \n",
       "1      [[215.95, 293.07, 182.2, 241.01, 182.2, 209.2,...   \n",
       "2      [[256.86, 566.74, 232.47, 561.0, 239.64, 523.7...   \n",
       "3      [[100.02, 310.63, 50.97, 351.99, 52.89, 424.11...   \n",
       "4      [[522.07, 471.37, 529.62, 453.03, 541.48, 444....   \n",
       "...                                                  ...   \n",
       "82778  [[1.08, 308.49, 240.54, 220.04, 500.49, 344.09...   \n",
       "82779  [[319.37, 427.0, 317.34, 410.83, 314.82, 404.2...   \n",
       "82780  [[44.22, 288.75, 92.76, 297.38, 147.78, 304.93...   \n",
       "82781  [[1.95, 21.43, 41.88, 33.12, 61.36, 65.26, 64....   \n",
       "82782  [[0.0, 101.97, 14.33, 96.91, 30.34, 96.91, 42....   \n",
       "\n",
       "       max_obj_area_portion         plural  \n",
       "0                  0.077204         chairs  \n",
       "1                  0.320359        persons  \n",
       "2                  0.107395        persons  \n",
       "3                  0.066040          ovens  \n",
       "4                  0.231463        persons  \n",
       "...                     ...            ...  \n",
       "82778              0.288267  dining tables  \n",
       "82779              0.134245    wine glasss  \n",
       "82780              0.327014  dining tables  \n",
       "82781              0.173458        persons  \n",
       "82782              0.133008        persons  \n",
       "\n",
       "[82783 rows x 15 columns]"
      ]
     },
     "execution_count": 214,
     "metadata": {},
     "output_type": "execute_result"
    }
   ],
   "source": [
    "train_label"
   ]
  },
  {
   "cell_type": "code",
   "execution_count": 209,
   "metadata": {},
   "outputs": [],
   "source": [
    "train_label['plural'] = train_label['max_obj_cat'] + 's'"
   ]
  },
  {
   "cell_type": "code",
   "execution_count": 199,
   "metadata": {},
   "outputs": [
    {
     "data": {
      "text/plain": [
       "array(['chair', 'person', 'oven', 'dining table', 'bus', 'bicycle',\n",
       "       'refrigerator', 'sink', 'bottle', 'bench', 'car', 'toilet', None,\n",
       "       'clock', 'bear', 'motorcycle', 'cat', 'spoon', 'horse', 'cake',\n",
       "       'train', 'airplane', 'traffic light', 'sheep', 'giraffe',\n",
       "       'skateboard', 'cow', 'truck', 'fire hydrant', 'potted plant',\n",
       "       'dog', 'bird', 'stop sign', 'teddy bear', 'tie', 'tv', 'bed',\n",
       "       'zebra', 'boat', 'vase', 'elephant', 'bowl', 'laptop', 'umbrella',\n",
       "       'suitcase', 'cup', 'couch', 'banana', 'baseball bat', 'orange',\n",
       "       'broccoli', 'sandwich', 'carrot', 'pizza', 'snowboard', 'apple',\n",
       "       'hot dog', 'donut', 'keyboard', 'surfboard', 'tennis racket',\n",
       "       'kite', 'hair drier', 'cell phone', 'microwave', 'scissors',\n",
       "       'handbag', 'parking meter', 'wine glass', 'backpack', 'frisbee',\n",
       "       'book', 'knife', 'toaster', 'fork', 'toothbrush', 'remote',\n",
       "       'sports ball', 'baseball glove', 'mouse', 'skis'], dtype=object)"
      ]
     },
     "execution_count": 199,
     "metadata": {},
     "output_type": "execute_result"
    }
   ],
   "source": [
    "max_types = train_label.max_obj_cat\n",
    "max_types.unique()"
   ]
  },
  {
   "cell_type": "code",
   "execution_count": 226,
   "metadata": {},
   "outputs": [],
   "source": [
    "plural_map = {'person': 'people', 'bus': 'buses', 'bench':'benches','couch': 'couches', 'sandwich': 'sandwiches', 'scissors':'scissorses', 'knife':'knives', 'toothbrush':'toothbrushes'}"
   ]
  },
  {
   "cell_type": "code",
   "execution_count": 230,
   "metadata": {},
   "outputs": [],
   "source": [
    "for key in plural_map.keys():\n",
    "    train_label.loc[train_label['max_obj_cat'] == key, 'plural'] = plural_map[key]"
   ]
  },
  {
   "cell_type": "code",
   "execution_count": 231,
   "metadata": {},
   "outputs": [
    {
     "data": {
      "text/html": [
       "<div>\n",
       "<style scoped>\n",
       "    .dataframe tbody tr th:only-of-type {\n",
       "        vertical-align: middle;\n",
       "    }\n",
       "\n",
       "    .dataframe tbody tr th {\n",
       "        vertical-align: top;\n",
       "    }\n",
       "\n",
       "    .dataframe thead th {\n",
       "        text-align: right;\n",
       "    }\n",
       "</style>\n",
       "<table border=\"1\" class=\"dataframe\">\n",
       "  <thead>\n",
       "    <tr style=\"text-align: right;\">\n",
       "      <th></th>\n",
       "      <th>img_id</th>\n",
       "      <th>file_name</th>\n",
       "      <th>width</th>\n",
       "      <th>height</th>\n",
       "      <th>objects_count</th>\n",
       "      <th>max_obj_id</th>\n",
       "      <th>max_obj_cat_id</th>\n",
       "      <th>max_obj_super_cat</th>\n",
       "      <th>max_obj_cat</th>\n",
       "      <th>max_obj_area</th>\n",
       "      <th>max_obj_midpoint</th>\n",
       "      <th>max_obj_bbox</th>\n",
       "      <th>max_obj_segment_points</th>\n",
       "      <th>max_obj_area_portion</th>\n",
       "      <th>plural</th>\n",
       "    </tr>\n",
       "  </thead>\n",
       "  <tbody>\n",
       "    <tr>\n",
       "      <th>0</th>\n",
       "      <td>57870</td>\n",
       "      <td>COCO_train2014_000000057870.jpg</td>\n",
       "      <td>640</td>\n",
       "      <td>480</td>\n",
       "      <td>17</td>\n",
       "      <td>2190436.0</td>\n",
       "      <td>62.0</td>\n",
       "      <td>furniture</td>\n",
       "      <td>chair</td>\n",
       "      <td>23717.00790</td>\n",
       "      <td>[176.59, 375.745]</td>\n",
       "      <td>[90.67, 271.49, 171.84, 208.51]</td>\n",
       "      <td>[[91.48, 476.07, 90.67, 425.33, 130.76, 394.24...</td>\n",
       "      <td>0.077204</td>\n",
       "      <td>chairs</td>\n",
       "    </tr>\n",
       "    <tr>\n",
       "      <th>1</th>\n",
       "      <td>384029</td>\n",
       "      <td>COCO_train2014_000000384029.jpg</td>\n",
       "      <td>640</td>\n",
       "      <td>429</td>\n",
       "      <td>14</td>\n",
       "      <td>423921.0</td>\n",
       "      <td>1.0</td>\n",
       "      <td>person</td>\n",
       "      <td>person</td>\n",
       "      <td>87957.80790</td>\n",
       "      <td>[243.905, 154.24499999999998]</td>\n",
       "      <td>[4.82, 2.89, 478.17, 302.71]</td>\n",
       "      <td>[[215.95, 293.07, 182.2, 241.01, 182.2, 209.2,...</td>\n",
       "      <td>0.320359</td>\n",
       "      <td>people</td>\n",
       "    </tr>\n",
       "    <tr>\n",
       "      <th>2</th>\n",
       "      <td>222016</td>\n",
       "      <td>COCO_train2014_000000222016.jpg</td>\n",
       "      <td>480</td>\n",
       "      <td>640</td>\n",
       "      <td>1</td>\n",
       "      <td>459512.0</td>\n",
       "      <td>1.0</td>\n",
       "      <td>person</td>\n",
       "      <td>person</td>\n",
       "      <td>32991.66165</td>\n",
       "      <td>[288.43, 390.96]</td>\n",
       "      <td>[225.29, 185.04, 126.28, 411.84]</td>\n",
       "      <td>[[256.86, 566.74, 232.47, 561.0, 239.64, 523.7...</td>\n",
       "      <td>0.107395</td>\n",
       "      <td>people</td>\n",
       "    </tr>\n",
       "    <tr>\n",
       "      <th>3</th>\n",
       "      <td>520950</td>\n",
       "      <td>COCO_train2014_000000520950.jpg</td>\n",
       "      <td>640</td>\n",
       "      <td>427</td>\n",
       "      <td>18</td>\n",
       "      <td>1124706.0</td>\n",
       "      <td>79.0</td>\n",
       "      <td>appliance</td>\n",
       "      <td>oven</td>\n",
       "      <td>18047.51420</td>\n",
       "      <td>[142.815, 366.89]</td>\n",
       "      <td>[50.97, 309.67, 183.69, 114.44]</td>\n",
       "      <td>[[100.02, 310.63, 50.97, 351.99, 52.89, 424.11...</td>\n",
       "      <td>0.066040</td>\n",
       "      <td>ovens</td>\n",
       "    </tr>\n",
       "    <tr>\n",
       "      <th>4</th>\n",
       "      <td>69675</td>\n",
       "      <td>COCO_train2014_000000069675.jpg</td>\n",
       "      <td>640</td>\n",
       "      <td>480</td>\n",
       "      <td>8</td>\n",
       "      <td>1726664.0</td>\n",
       "      <td>1.0</td>\n",
       "      <td>person</td>\n",
       "      <td>person</td>\n",
       "      <td>71105.37880</td>\n",
       "      <td>[437.39, 258.875]</td>\n",
       "      <td>[309.57, 44.22, 255.64, 429.31]</td>\n",
       "      <td>[[522.07, 471.37, 529.62, 453.03, 541.48, 444....</td>\n",
       "      <td>0.231463</td>\n",
       "      <td>people</td>\n",
       "    </tr>\n",
       "    <tr>\n",
       "      <th>...</th>\n",
       "      <td>...</td>\n",
       "      <td>...</td>\n",
       "      <td>...</td>\n",
       "      <td>...</td>\n",
       "      <td>...</td>\n",
       "      <td>...</td>\n",
       "      <td>...</td>\n",
       "      <td>...</td>\n",
       "      <td>...</td>\n",
       "      <td>...</td>\n",
       "      <td>...</td>\n",
       "      <td>...</td>\n",
       "      <td>...</td>\n",
       "      <td>...</td>\n",
       "      <td>...</td>\n",
       "    </tr>\n",
       "    <tr>\n",
       "      <th>82778</th>\n",
       "      <td>444010</td>\n",
       "      <td>COCO_train2014_000000444010.jpg</td>\n",
       "      <td>640</td>\n",
       "      <td>480</td>\n",
       "      <td>51</td>\n",
       "      <td>390340.0</td>\n",
       "      <td>67.0</td>\n",
       "      <td>furniture</td>\n",
       "      <td>dining table</td>\n",
       "      <td>88555.58315</td>\n",
       "      <td>[250.78500000000003, 349.48]</td>\n",
       "      <td>[1.08, 220.04, 499.41, 258.88]</td>\n",
       "      <td>[[1.08, 308.49, 240.54, 220.04, 500.49, 344.09...</td>\n",
       "      <td>0.288267</td>\n",
       "      <td>dining tables</td>\n",
       "    </tr>\n",
       "    <tr>\n",
       "      <th>82779</th>\n",
       "      <td>565004</td>\n",
       "      <td>COCO_train2014_000000565004.jpg</td>\n",
       "      <td>640</td>\n",
       "      <td>427</td>\n",
       "      <td>7</td>\n",
       "      <td>661746.0</td>\n",
       "      <td>46.0</td>\n",
       "      <td>kitchen</td>\n",
       "      <td>wine glass</td>\n",
       "      <td>36686.44230</td>\n",
       "      <td>[329.975, 287.025]</td>\n",
       "      <td>[244.07, 147.05, 171.81, 279.95]</td>\n",
       "      <td>[[319.37, 427.0, 317.34, 410.83, 314.82, 404.2...</td>\n",
       "      <td>0.134245</td>\n",
       "      <td>wine glasss</td>\n",
       "    </tr>\n",
       "    <tr>\n",
       "      <th>82780</th>\n",
       "      <td>516168</td>\n",
       "      <td>COCO_train2014_000000516168.jpg</td>\n",
       "      <td>640</td>\n",
       "      <td>480</td>\n",
       "      <td>40</td>\n",
       "      <td>1616408.0</td>\n",
       "      <td>67.0</td>\n",
       "      <td>furniture</td>\n",
       "      <td>dining table</td>\n",
       "      <td>100458.80335</td>\n",
       "      <td>[320.0, 380.975]</td>\n",
       "      <td>[0.0, 288.75, 640.0, 184.45]</td>\n",
       "      <td>[[44.22, 288.75, 92.76, 297.38, 147.78, 304.93...</td>\n",
       "      <td>0.327014</td>\n",
       "      <td>dining tables</td>\n",
       "    </tr>\n",
       "    <tr>\n",
       "      <th>82781</th>\n",
       "      <td>547503</td>\n",
       "      <td>COCO_train2014_000000547503.jpg</td>\n",
       "      <td>500</td>\n",
       "      <td>375</td>\n",
       "      <td>13</td>\n",
       "      <td>2158193.0</td>\n",
       "      <td>1.0</td>\n",
       "      <td>person</td>\n",
       "      <td>person</td>\n",
       "      <td>32523.35120</td>\n",
       "      <td>[62.34, 190.91]</td>\n",
       "      <td>[0.0, 21.43, 124.68, 338.96]</td>\n",
       "      <td>[[1.95, 21.43, 41.88, 33.12, 61.36, 65.26, 64....</td>\n",
       "      <td>0.173458</td>\n",
       "      <td>people</td>\n",
       "    </tr>\n",
       "    <tr>\n",
       "      <th>82782</th>\n",
       "      <td>475546</td>\n",
       "      <td>COCO_train2014_000000475546.jpg</td>\n",
       "      <td>500</td>\n",
       "      <td>375</td>\n",
       "      <td>13</td>\n",
       "      <td>523544.0</td>\n",
       "      <td>1.0</td>\n",
       "      <td>person</td>\n",
       "      <td>person</td>\n",
       "      <td>24938.94505</td>\n",
       "      <td>[64.89, 233.85]</td>\n",
       "      <td>[0.0, 96.91, 129.78, 273.88]</td>\n",
       "      <td>[[0.0, 101.97, 14.33, 96.91, 30.34, 96.91, 42....</td>\n",
       "      <td>0.133008</td>\n",
       "      <td>people</td>\n",
       "    </tr>\n",
       "  </tbody>\n",
       "</table>\n",
       "<p>82783 rows × 15 columns</p>\n",
       "</div>"
      ],
      "text/plain": [
       "       img_id                        file_name  width  height  objects_count  \\\n",
       "0       57870  COCO_train2014_000000057870.jpg    640     480             17   \n",
       "1      384029  COCO_train2014_000000384029.jpg    640     429             14   \n",
       "2      222016  COCO_train2014_000000222016.jpg    480     640              1   \n",
       "3      520950  COCO_train2014_000000520950.jpg    640     427             18   \n",
       "4       69675  COCO_train2014_000000069675.jpg    640     480              8   \n",
       "...       ...                              ...    ...     ...            ...   \n",
       "82778  444010  COCO_train2014_000000444010.jpg    640     480             51   \n",
       "82779  565004  COCO_train2014_000000565004.jpg    640     427              7   \n",
       "82780  516168  COCO_train2014_000000516168.jpg    640     480             40   \n",
       "82781  547503  COCO_train2014_000000547503.jpg    500     375             13   \n",
       "82782  475546  COCO_train2014_000000475546.jpg    500     375             13   \n",
       "\n",
       "       max_obj_id  max_obj_cat_id max_obj_super_cat   max_obj_cat  \\\n",
       "0       2190436.0            62.0         furniture         chair   \n",
       "1        423921.0             1.0            person        person   \n",
       "2        459512.0             1.0            person        person   \n",
       "3       1124706.0            79.0         appliance          oven   \n",
       "4       1726664.0             1.0            person        person   \n",
       "...           ...             ...               ...           ...   \n",
       "82778    390340.0            67.0         furniture  dining table   \n",
       "82779    661746.0            46.0           kitchen    wine glass   \n",
       "82780   1616408.0            67.0         furniture  dining table   \n",
       "82781   2158193.0             1.0            person        person   \n",
       "82782    523544.0             1.0            person        person   \n",
       "\n",
       "       max_obj_area               max_obj_midpoint  \\\n",
       "0       23717.00790              [176.59, 375.745]   \n",
       "1       87957.80790  [243.905, 154.24499999999998]   \n",
       "2       32991.66165               [288.43, 390.96]   \n",
       "3       18047.51420              [142.815, 366.89]   \n",
       "4       71105.37880              [437.39, 258.875]   \n",
       "...             ...                            ...   \n",
       "82778   88555.58315   [250.78500000000003, 349.48]   \n",
       "82779   36686.44230             [329.975, 287.025]   \n",
       "82780  100458.80335               [320.0, 380.975]   \n",
       "82781   32523.35120                [62.34, 190.91]   \n",
       "82782   24938.94505                [64.89, 233.85]   \n",
       "\n",
       "                           max_obj_bbox  \\\n",
       "0       [90.67, 271.49, 171.84, 208.51]   \n",
       "1          [4.82, 2.89, 478.17, 302.71]   \n",
       "2      [225.29, 185.04, 126.28, 411.84]   \n",
       "3       [50.97, 309.67, 183.69, 114.44]   \n",
       "4       [309.57, 44.22, 255.64, 429.31]   \n",
       "...                                 ...   \n",
       "82778    [1.08, 220.04, 499.41, 258.88]   \n",
       "82779  [244.07, 147.05, 171.81, 279.95]   \n",
       "82780      [0.0, 288.75, 640.0, 184.45]   \n",
       "82781      [0.0, 21.43, 124.68, 338.96]   \n",
       "82782      [0.0, 96.91, 129.78, 273.88]   \n",
       "\n",
       "                                  max_obj_segment_points  \\\n",
       "0      [[91.48, 476.07, 90.67, 425.33, 130.76, 394.24...   \n",
       "1      [[215.95, 293.07, 182.2, 241.01, 182.2, 209.2,...   \n",
       "2      [[256.86, 566.74, 232.47, 561.0, 239.64, 523.7...   \n",
       "3      [[100.02, 310.63, 50.97, 351.99, 52.89, 424.11...   \n",
       "4      [[522.07, 471.37, 529.62, 453.03, 541.48, 444....   \n",
       "...                                                  ...   \n",
       "82778  [[1.08, 308.49, 240.54, 220.04, 500.49, 344.09...   \n",
       "82779  [[319.37, 427.0, 317.34, 410.83, 314.82, 404.2...   \n",
       "82780  [[44.22, 288.75, 92.76, 297.38, 147.78, 304.93...   \n",
       "82781  [[1.95, 21.43, 41.88, 33.12, 61.36, 65.26, 64....   \n",
       "82782  [[0.0, 101.97, 14.33, 96.91, 30.34, 96.91, 42....   \n",
       "\n",
       "       max_obj_area_portion         plural  \n",
       "0                  0.077204         chairs  \n",
       "1                  0.320359         people  \n",
       "2                  0.107395         people  \n",
       "3                  0.066040          ovens  \n",
       "4                  0.231463         people  \n",
       "...                     ...            ...  \n",
       "82778              0.288267  dining tables  \n",
       "82779              0.134245    wine glasss  \n",
       "82780              0.327014  dining tables  \n",
       "82781              0.173458         people  \n",
       "82782              0.133008         people  \n",
       "\n",
       "[82783 rows x 15 columns]"
      ]
     },
     "execution_count": 231,
     "metadata": {},
     "output_type": "execute_result"
    }
   ],
   "source": [
    "train_label"
   ]
  },
  {
   "cell_type": "code",
   "execution_count": 234,
   "metadata": {},
   "outputs": [],
   "source": [
    "obj_caption = train_label[train_label['img_id'] == 57870]['plural'].iloc[0]"
   ]
  },
  {
   "cell_type": "code",
   "execution_count": 237,
   "metadata": {},
   "outputs": [],
   "source": [
    "a = 'abc de'\n",
    "b = 'abc'"
   ]
  },
  {
   "cell_type": "code",
   "execution_count": 239,
   "metadata": {},
   "outputs": [
    {
     "data": {
      "text/plain": [
       "'Hello Worl'"
      ]
     },
     "execution_count": 239,
     "metadata": {},
     "output_type": "execute_result"
    }
   ],
   "source": [
    "text = \"wordHello Worldword\"\n",
    "text.strip(\"word\")"
   ]
  },
  {
   "cell_type": "code",
   "execution_count": 242,
   "metadata": {},
   "outputs": [],
   "source": [
    "new = text.strip(\"word\")"
   ]
  },
  {
   "cell_type": "code",
   "execution_count": 243,
   "metadata": {},
   "outputs": [
    {
     "data": {
      "text/plain": [
       "'Hello Worl'"
      ]
     },
     "execution_count": 243,
     "metadata": {},
     "output_type": "execute_result"
    }
   ],
   "source": [
    "new"
   ]
  },
  {
   "cell_type": "code",
   "execution_count": 240,
   "metadata": {},
   "outputs": [
    {
     "data": {
      "text/plain": [
       "'wordHello Worldword'"
      ]
     },
     "execution_count": 240,
     "metadata": {},
     "output_type": "execute_result"
    }
   ],
   "source": [
    "text.strip(\"a\")"
   ]
  },
  {
   "cell_type": "code",
   "execution_count": 244,
   "metadata": {},
   "outputs": [
    {
     "data": {
      "text/html": [
       "<div>\n",
       "<style scoped>\n",
       "    .dataframe tbody tr th:only-of-type {\n",
       "        vertical-align: middle;\n",
       "    }\n",
       "\n",
       "    .dataframe tbody tr th {\n",
       "        vertical-align: top;\n",
       "    }\n",
       "\n",
       "    .dataframe thead th {\n",
       "        text-align: right;\n",
       "    }\n",
       "</style>\n",
       "<table border=\"1\" class=\"dataframe\">\n",
       "  <thead>\n",
       "    <tr style=\"text-align: right;\">\n",
       "      <th></th>\n",
       "      <th>caption</th>\n",
       "      <th>image</th>\n",
       "      <th>image_id</th>\n",
       "    </tr>\n",
       "  </thead>\n",
       "  <tbody>\n",
       "    <tr>\n",
       "      <th>0</th>\n",
       "      <td>A woman wearing a net on her head cutting a ca...</td>\n",
       "      <td>val2014/COCO_val2014_000000522418.jpg</td>\n",
       "      <td>coco_522418</td>\n",
       "    </tr>\n",
       "    <tr>\n",
       "      <th>1</th>\n",
       "      <td>A woman cutting a large white sheet cake.</td>\n",
       "      <td>val2014/COCO_val2014_000000522418.jpg</td>\n",
       "      <td>coco_522418</td>\n",
       "    </tr>\n",
       "    <tr>\n",
       "      <th>2</th>\n",
       "      <td>A woman wearing a hair net cutting a large she...</td>\n",
       "      <td>val2014/COCO_val2014_000000522418.jpg</td>\n",
       "      <td>coco_522418</td>\n",
       "    </tr>\n",
       "    <tr>\n",
       "      <th>3</th>\n",
       "      <td>there is a woman that is cutting a white cake</td>\n",
       "      <td>val2014/COCO_val2014_000000522418.jpg</td>\n",
       "      <td>coco_522418</td>\n",
       "    </tr>\n",
       "    <tr>\n",
       "      <th>4</th>\n",
       "      <td>A woman marking a cake with the back of a chef...</td>\n",
       "      <td>val2014/COCO_val2014_000000522418.jpg</td>\n",
       "      <td>coco_522418</td>\n",
       "    </tr>\n",
       "    <tr>\n",
       "      <th>...</th>\n",
       "      <td>...</td>\n",
       "      <td>...</td>\n",
       "      <td>...</td>\n",
       "    </tr>\n",
       "    <tr>\n",
       "      <th>566742</th>\n",
       "      <td>The patrons enjoy their beverages at the bar.</td>\n",
       "      <td>train2014/COCO_train2014_000000475546.jpg</td>\n",
       "      <td>coco_475546</td>\n",
       "    </tr>\n",
       "    <tr>\n",
       "      <th>566743</th>\n",
       "      <td>People having a drink in a basement bar.</td>\n",
       "      <td>train2014/COCO_train2014_000000475546.jpg</td>\n",
       "      <td>coco_475546</td>\n",
       "    </tr>\n",
       "    <tr>\n",
       "      <th>566744</th>\n",
       "      <td>A group of friends enjoys a drink while sittin...</td>\n",
       "      <td>train2014/COCO_train2014_000000475546.jpg</td>\n",
       "      <td>coco_475546</td>\n",
       "    </tr>\n",
       "    <tr>\n",
       "      <th>566745</th>\n",
       "      <td>Group of people drinking wine at a public loca...</td>\n",
       "      <td>train2014/COCO_train2014_000000475546.jpg</td>\n",
       "      <td>coco_475546</td>\n",
       "    </tr>\n",
       "    <tr>\n",
       "      <th>566746</th>\n",
       "      <td>Three women and a man are sitting at a bar</td>\n",
       "      <td>train2014/COCO_train2014_000000475546.jpg</td>\n",
       "      <td>coco_475546</td>\n",
       "    </tr>\n",
       "  </tbody>\n",
       "</table>\n",
       "<p>566747 rows × 3 columns</p>\n",
       "</div>"
      ],
      "text/plain": [
       "                                                  caption  \\\n",
       "0       A woman wearing a net on her head cutting a ca...   \n",
       "1               A woman cutting a large white sheet cake.   \n",
       "2       A woman wearing a hair net cutting a large she...   \n",
       "3           there is a woman that is cutting a white cake   \n",
       "4       A woman marking a cake with the back of a chef...   \n",
       "...                                                   ...   \n",
       "566742      The patrons enjoy their beverages at the bar.   \n",
       "566743           People having a drink in a basement bar.   \n",
       "566744  A group of friends enjoys a drink while sittin...   \n",
       "566745  Group of people drinking wine at a public loca...   \n",
       "566746         Three women and a man are sitting at a bar   \n",
       "\n",
       "                                            image     image_id  \n",
       "0           val2014/COCO_val2014_000000522418.jpg  coco_522418  \n",
       "1           val2014/COCO_val2014_000000522418.jpg  coco_522418  \n",
       "2           val2014/COCO_val2014_000000522418.jpg  coco_522418  \n",
       "3           val2014/COCO_val2014_000000522418.jpg  coco_522418  \n",
       "4           val2014/COCO_val2014_000000522418.jpg  coco_522418  \n",
       "...                                           ...          ...  \n",
       "566742  train2014/COCO_train2014_000000475546.jpg  coco_475546  \n",
       "566743  train2014/COCO_train2014_000000475546.jpg  coco_475546  \n",
       "566744  train2014/COCO_train2014_000000475546.jpg  coco_475546  \n",
       "566745  train2014/COCO_train2014_000000475546.jpg  coco_475546  \n",
       "566746  train2014/COCO_train2014_000000475546.jpg  coco_475546  \n",
       "\n",
       "[566747 rows x 3 columns]"
      ]
     },
     "execution_count": 244,
     "metadata": {},
     "output_type": "execute_result"
    }
   ],
   "source": [
    "json_df"
   ]
  },
  {
   "cell_type": "code",
   "execution_count": 248,
   "metadata": {},
   "outputs": [
    {
     "data": {
      "text/plain": [
       "caption     A man playing tennis while people watch from t...\n",
       "image                   val2014/COCO_val2014_000000017449.jpg\n",
       "image_id                                           coco_17449\n",
       "Name: 22222, dtype: object"
      ]
     },
     "execution_count": 248,
     "metadata": {},
     "output_type": "execute_result"
    }
   ],
   "source": [
    "json_df.iloc[22222]"
   ]
  },
  {
   "cell_type": "code",
   "execution_count": 272,
   "metadata": {},
   "outputs": [],
   "source": [
    "def text_augmentation(obj_id: int, bg_id: int, json_df, train_label):\n",
    "    \"\"\"\n",
    "    obj_id, bg_id는 img_id 형식으로 삽입 ex) 57870\n",
    "    단, json_df의 경우 bg_id 는 'coco_image_id' 형식으로 삽입해줘야 하므로, 함수 내부에서 img_id를 형식에 맞게 바꿔줌 ex) \"coco_475546\"\n",
    "    5개의 caption 중 첫번째 caption을 가져오는 코드로 우선 작성\n",
    "    obj는 2번째 token 까지, bg는 3번째 token부터 끝까지를 가져오고,\n",
    "    2개의 token을 concat하여 back translation을 진행\n",
    "    이 부분은 추후 변경 필요\n",
    "    \"\"\"\n",
    "    obj_caption = train_label[train_label['img_id'] == obj_id]['plural'].iloc[0]\n",
    "    bg_id_coco = \"coco_\" + str(bg_id)\n",
    "    bg_caption = json_df[json_df['image_id'] == bg_id_coco]['caption'].iloc[0]\n",
    "    bg_caption_strip_1 = bg_caption.strip(train_label[train_label['img_id'] == bg_id]['max_obj_cat'].values[0])\n",
    "    bg_caption_strip_2 = bg_caption_strip_1.strip(train_label[train_label['img_id'] == bg_id]['plural'].values[0])\n",
    "    \n",
    "    obj_tok = first_model_tokenizer.encode(obj_caption)\n",
    "    bg_tok = first_model_tokenizer.encode(bg_caption_strip_2)\n",
    "    \n",
    "    concat_token = obj_tok + bg_tok\n",
    "    \n",
    "    concat_text = first_model_tokenizer.decode(concat_token, skip_special_tokens=True)\n",
    "    \n",
    "    backtranslated_text = back_translation(concat_text, first_model, first_model_tokenizer, second_model, second_model_tokenizer)\n",
    "    \n",
    "    return backtranslated_text"
   ]
  },
  {
   "cell_type": "code",
   "execution_count": 275,
   "metadata": {},
   "outputs": [
    {
     "data": {
      "text/plain": [
       "('chairs', 'The patrons enjoy their beverages at the bar.')"
      ]
     },
     "execution_count": 275,
     "metadata": {},
     "output_type": "execute_result"
    }
   ],
   "source": [
    "obj_caption = train_label[train_label['img_id'] == 57870]['plural'].iloc[0]\n",
    "bg_caption = json_df[json_df['image_id'] == \"coco_475546\"]['caption'].iloc[0]\n",
    "\n",
    "obj_caption, bg_caption"
   ]
  },
  {
   "cell_type": "code",
   "execution_count": 276,
   "metadata": {},
   "outputs": [
    {
     "name": "stderr",
     "output_type": "stream",
     "text": [
      "/usr/local/lib/python3.8/dist-packages/transformers/generation/utils.py:1313: UserWarning: Using `max_length`'s default (512) to control the generation length. This behaviour is deprecated and will be removed from the config in v5 of Transformers -- we recommend using `max_new_tokens` to control the maximum length of the generation.\n",
      "  warnings.warn(\n"
     ]
    },
    {
     "name": "stdout",
     "output_type": "stream",
     "text": [
      "Guests enjoy their drinks at the bar.\n"
     ]
    }
   ],
   "source": [
    "test_text = text_augmentation(57870, 475546, json_df, train_label)\n",
    "print(test_text)"
   ]
  },
  {
   "cell_type": "code",
   "execution_count": 274,
   "metadata": {},
   "outputs": [
    {
     "data": {
      "text/plain": [
       "'Guests enjoy their drinks at the bar.'"
      ]
     },
     "execution_count": 274,
     "metadata": {},
     "output_type": "execute_result"
    }
   ],
   "source": [
    "test_text"
   ]
  },
  {
   "attachments": {},
   "cell_type": "markdown",
   "metadata": {},
   "source": [
    "### 여기서 부터는 문장에서 주어랑 목적어 출력하는 코드입니다.\n",
    "### 원래 계획은 bg caption은 주어 삭제, obj caption은 주어 추출해서 두개 합치려고 했는데, caption이 문장이 아닌 명사구 형태인 경우가 많아서\n",
    "### 추출이 제대로 되지 않는 경우가 많아서 코드만 짜놓고 스킵했으니 참고만 부탁드립니다."
   ]
  },
  {
   "cell_type": "code",
   "execution_count": 164,
   "metadata": {},
   "outputs": [
    {
     "name": "stdout",
     "output_type": "stream",
     "text": [
      "Requirement already satisfied: spacy in /usr/local/lib/python3.8/dist-packages (3.5.2)\n",
      "Requirement already satisfied: pydantic!=1.8,!=1.8.1,<1.11.0,>=1.7.4 in /usr/local/lib/python3.8/dist-packages (from spacy) (1.10.7)\n",
      "Requirement already satisfied: spacy-legacy<3.1.0,>=3.0.11 in /usr/local/lib/python3.8/dist-packages (from spacy) (3.0.12)\n",
      "Requirement already satisfied: langcodes<4.0.0,>=3.2.0 in /usr/local/lib/python3.8/dist-packages (from spacy) (3.3.0)\n",
      "Requirement already satisfied: numpy>=1.15.0 in /usr/local/lib/python3.8/dist-packages (from spacy) (1.22.3)\n",
      "Requirement already satisfied: preshed<3.1.0,>=3.0.2 in /usr/local/lib/python3.8/dist-packages (from spacy) (3.0.8)\n",
      "Requirement already satisfied: typer<0.8.0,>=0.3.0 in /usr/local/lib/python3.8/dist-packages (from spacy) (0.7.0)\n",
      "Requirement already satisfied: tqdm<5.0.0,>=4.38.0 in /usr/local/lib/python3.8/dist-packages (from spacy) (4.63.1)\n",
      "Requirement already satisfied: jinja2 in /usr/local/lib/python3.8/dist-packages (from spacy) (3.1.1)\n",
      "Requirement already satisfied: thinc<8.2.0,>=8.1.8 in /usr/local/lib/python3.8/dist-packages (from spacy) (8.1.9)\n",
      "Requirement already satisfied: cymem<2.1.0,>=2.0.2 in /usr/local/lib/python3.8/dist-packages (from spacy) (2.0.7)\n",
      "Requirement already satisfied: spacy-loggers<2.0.0,>=1.0.0 in /usr/local/lib/python3.8/dist-packages (from spacy) (1.0.4)\n",
      "Requirement already satisfied: pathy>=0.10.0 in /usr/local/lib/python3.8/dist-packages (from spacy) (0.10.1)\n",
      "Requirement already satisfied: packaging>=20.0 in /usr/local/lib/python3.8/dist-packages (from spacy) (21.3)\n",
      "Requirement already satisfied: requests<3.0.0,>=2.13.0 in /usr/local/lib/python3.8/dist-packages (from spacy) (2.27.1)\n",
      "Requirement already satisfied: setuptools in /usr/local/lib/python3.8/dist-packages (from spacy) (61.2.0)\n",
      "Requirement already satisfied: smart-open<7.0.0,>=5.2.1 in /usr/local/lib/python3.8/dist-packages (from spacy) (6.3.0)\n",
      "Requirement already satisfied: srsly<3.0.0,>=2.4.3 in /usr/local/lib/python3.8/dist-packages (from spacy) (2.4.6)\n",
      "Requirement already satisfied: murmurhash<1.1.0,>=0.28.0 in /usr/local/lib/python3.8/dist-packages (from spacy) (1.0.9)\n",
      "Requirement already satisfied: wasabi<1.2.0,>=0.9.1 in /usr/local/lib/python3.8/dist-packages (from spacy) (1.1.1)\n",
      "Requirement already satisfied: catalogue<2.1.0,>=2.0.6 in /usr/local/lib/python3.8/dist-packages (from spacy) (2.0.8)\n",
      "Requirement already satisfied: pyparsing!=3.0.5,>=2.0.2 in /usr/local/lib/python3.8/dist-packages (from packaging>=20.0->spacy) (3.0.7)\n",
      "Requirement already satisfied: typing-extensions>=4.2.0 in /usr/local/lib/python3.8/dist-packages (from pydantic!=1.8,!=1.8.1,<1.11.0,>=1.7.4->spacy) (4.5.0)\n",
      "Requirement already satisfied: idna<4,>=2.5 in /usr/local/lib/python3.8/dist-packages (from requests<3.0.0,>=2.13.0->spacy) (3.3)\n",
      "Requirement already satisfied: urllib3<1.27,>=1.21.1 in /usr/local/lib/python3.8/dist-packages (from requests<3.0.0,>=2.13.0->spacy) (1.26.9)\n",
      "Requirement already satisfied: charset-normalizer~=2.0.0 in /usr/local/lib/python3.8/dist-packages (from requests<3.0.0,>=2.13.0->spacy) (2.0.12)\n",
      "Requirement already satisfied: certifi>=2017.4.17 in /usr/local/lib/python3.8/dist-packages (from requests<3.0.0,>=2.13.0->spacy) (2021.10.8)\n",
      "Requirement already satisfied: blis<0.8.0,>=0.7.8 in /usr/local/lib/python3.8/dist-packages (from thinc<8.2.0,>=8.1.8->spacy) (0.7.9)\n",
      "Requirement already satisfied: confection<1.0.0,>=0.0.1 in /usr/local/lib/python3.8/dist-packages (from thinc<8.2.0,>=8.1.8->spacy) (0.0.4)\n",
      "Requirement already satisfied: click<9.0.0,>=7.1.1 in /usr/local/lib/python3.8/dist-packages (from typer<0.8.0,>=0.3.0->spacy) (8.1.3)\n",
      "Requirement already satisfied: MarkupSafe>=2.0 in /usr/local/lib/python3.8/dist-packages (from jinja2->spacy) (2.1.1)\n",
      "\u001b[33mWARNING: Running pip as the 'root' user can result in broken permissions and conflicting behaviour with the system package manager. It is recommended to use a virtual environment instead: https://pip.pypa.io/warnings/venv\u001b[0m\u001b[33m\n",
      "\u001b[0m\n",
      "\u001b[1m[\u001b[0m\u001b[34;49mnotice\u001b[0m\u001b[1;39;49m]\u001b[0m\u001b[39;49m A new release of pip is available: \u001b[0m\u001b[31;49m23.0.1\u001b[0m\u001b[39;49m -> \u001b[0m\u001b[32;49m23.1\u001b[0m\n",
      "\u001b[1m[\u001b[0m\u001b[34;49mnotice\u001b[0m\u001b[1;39;49m]\u001b[0m\u001b[39;49m To update, run: \u001b[0m\u001b[32;49mpython3.8 -m pip install --upgrade pip\u001b[0m\n"
     ]
    }
   ],
   "source": [
    "!pip install spacy"
   ]
  },
  {
   "cell_type": "code",
   "execution_count": 168,
   "metadata": {},
   "outputs": [],
   "source": [
    "import spacy"
   ]
  },
  {
   "cell_type": "code",
   "execution_count": 169,
   "metadata": {},
   "outputs": [],
   "source": [
    "nlp = spacy.load('en_core_web_sm')"
   ]
  },
  {
   "cell_type": "code",
   "execution_count": 170,
   "metadata": {},
   "outputs": [],
   "source": [
    "sentences=[\"The big black cat stared at the small dog.\",\n",
    "           \"Jane watched her brother in the evenings.\"]"
   ]
  },
  {
   "cell_type": "code",
   "execution_count": 171,
   "metadata": {},
   "outputs": [],
   "source": [
    "def get_subject_phrase(doc):\n",
    "    for token in doc:\n",
    "        if (\"subj\" in token.dep_):\n",
    "            subtree = list(token.subtree)\n",
    "            start = subtree[0].i\n",
    "            end = subtree[-1].i + 1\n",
    "            return doc[start:end]"
   ]
  },
  {
   "cell_type": "code",
   "execution_count": 172,
   "metadata": {},
   "outputs": [],
   "source": [
    "def get_object_phrase(doc):\n",
    "    for token in doc:\n",
    "        if (\"dobj\" in token.dep_):\n",
    "            subtree = list(token.subtree)\n",
    "            start = subtree[0].i\n",
    "            end = subtree[-1].i + 1\n",
    "            return doc[start:end]"
   ]
  },
  {
   "cell_type": "code",
   "execution_count": 192,
   "metadata": {},
   "outputs": [
    {
     "data": {
      "text/plain": [
       "'A beach shore with a shallow strip of water passing through it.'"
      ]
     },
     "execution_count": 192,
     "metadata": {},
     "output_type": "execute_result"
    }
   ],
   "source": [
    "obj_caption = json_df[json_df['image_id'] == \"coco_133549\"]['caption']\n",
    "caption = obj_caption.iloc[1]\n",
    "caption"
   ]
  },
  {
   "cell_type": "code",
   "execution_count": 197,
   "metadata": {},
   "outputs": [
    {
     "data": {
      "text/plain": [
       "I"
      ]
     },
     "execution_count": 197,
     "metadata": {},
     "output_type": "execute_result"
    }
   ],
   "source": [
    "doc = nlp(\"I like pizza a lot\")\n",
    "doc\n",
    "get_subject_phrase(doc)"
   ]
  },
  {
   "cell_type": "code",
   "execution_count": 194,
   "metadata": {},
   "outputs": [
    {
     "name": "stdout",
     "output_type": "stream",
     "text": [
      "None\n"
     ]
    }
   ],
   "source": [
    "print(get_object_phrase(doc))"
   ]
  },
  {
   "cell_type": "code",
   "execution_count": 195,
   "metadata": {},
   "outputs": [
    {
     "data": {
      "text/plain": [
       "'A beach shore with a shallow strip of water passing through it.'"
      ]
     },
     "execution_count": 195,
     "metadata": {},
     "output_type": "execute_result"
    }
   ],
   "source": [
    "caption"
   ]
  },
  {
   "cell_type": "code",
   "execution_count": 196,
   "metadata": {},
   "outputs": [
    {
     "name": "stdout",
     "output_type": "stream",
     "text": [
      "A beach shore with a shallow strip of water\n",
      "None\n",
      "A beach shore with a shallow strip of water\n",
      "None\n"
     ]
    }
   ],
   "source": [
    "for sentence in sentences:\n",
    "    doc = nlp(caption)\n",
    "    subject_phrase = get_subject_phrase(doc)\n",
    "    object_phrase = get_object_phrase(doc)\n",
    "    print(subject_phrase)\n",
    "    print(object_phrase)"
   ]
  },
  {
   "cell_type": "code",
   "execution_count": null,
   "metadata": {},
   "outputs": [],
   "source": []
  }
 ],
 "metadata": {
  "kernelspec": {
   "display_name": "Python 3",
   "language": "python",
   "name": "python3"
  },
  "language_info": {
   "codemirror_mode": {
    "name": "ipython",
    "version": 3
   },
   "file_extension": ".py",
   "mimetype": "text/x-python",
   "name": "python",
   "nbconvert_exporter": "python",
   "pygments_lexer": "ipython3",
   "version": "3.8.10"
  },
  "orig_nbformat": 4
 },
 "nbformat": 4,
 "nbformat_minor": 2
}
