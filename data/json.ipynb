{
 "cells": [
  {
   "cell_type": "code",
   "execution_count": 1,
   "id": "5a68a094",
   "metadata": {},
   "outputs": [],
   "source": [
    "import json \n",
    "import numpy as np \n",
    "from glob import glob \n",
    "from PIL import Image \n",
    "from PIL.Image import open as op \n",
    "import os "
   ]
  },
  {
   "cell_type": "code",
   "execution_count": 20,
   "id": "f22902da",
   "metadata": {},
   "outputs": [],
   "source": [
    "json_dir = './json_downstream/coco_test.json'\n",
    "image_root = '/Volume/img2txt/RobustMixGen/data/Images/coco/'\n",
    "coco = json.load(open(json_dir))"
   ]
  },
  {
   "cell_type": "code",
   "execution_count": 17,
   "id": "88d2f228",
   "metadata": {},
   "outputs": [],
   "source": [
    "for i,data in enumerate(coco):\n",
    "    data['image'] = data['image'].split('/')[-1]"
   ]
  },
  {
   "cell_type": "code",
   "execution_count": 21,
   "id": "316d4ea8",
   "metadata": {},
   "outputs": [
    {
     "name": "stdout",
     "output_type": "stream",
     "text": [
      "length : 5000\n",
      "fin : 4999\n"
     ]
    }
   ],
   "source": [
    "for i,data in enumerate(coco):\n",
    "    if len(data['image']) not in [29,31]:\n",
    "        print(i)\n",
    "        break\n",
    "print(f'length : {len(coco)}')    \n",
    "print(f'fin : {i}')"
   ]
  },
  {
   "cell_type": "code",
   "execution_count": 19,
   "id": "42922e03",
   "metadata": {},
   "outputs": [],
   "source": [
    "with open(json_dir,'w') as f:\n",
    "    json.dump(coco,f)"
   ]
  }
 ],
 "metadata": {
  "kernelspec": {
   "display_name": "Python 3 (ipykernel)",
   "language": "python",
   "name": "python3"
  },
  "language_info": {
   "codemirror_mode": {
    "name": "ipython",
    "version": 3
   },
   "file_extension": ".py",
   "mimetype": "text/x-python",
   "name": "python",
   "nbconvert_exporter": "python",
   "pygments_lexer": "ipython3",
   "version": "3.8.10"
  }
 },
 "nbformat": 4,
 "nbformat_minor": 5
}
