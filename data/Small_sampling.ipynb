{
 "cells": [
  {
   "cell_type": "code",
   "execution_count": 1,
   "metadata": {},
   "outputs": [
    {
     "name": "stderr",
     "output_type": "stream",
     "text": [
      "/usr/local/lib/python3.8/dist-packages/tqdm/auto.py:22: TqdmWarning: IProgress not found. Please update jupyter and ipywidgets. See https://ipywidgets.readthedocs.io/en/stable/user_install.html\n",
      "  from .autonotebook import tqdm as notebook_tqdm\n"
     ]
    }
   ],
   "source": [
    "\n",
    "import os \n",
    "os.chdir('../')\n",
    "os.getcwd()\n",
    "import cv2\n",
    "import numpy as np \n",
    "import pandas as pd  \n",
    "import math \n",
    "import yaml \n",
    "import json \n",
    "import torchvision.transforms as transforms \n",
    "from PIL import Image \n",
    "\n",
    "from dataset.caption_dataset import re_train_dataset\n",
    "from torchvision import transforms \n",
    "from dataset.randaugment import RandomAugment\n",
    "from PIL import Image \n",
    "from torch.utils.data import DataLoader \n",
    "import random \n"
   ]
  },
  {
   "cell_type": "code",
   "execution_count": 2,
   "metadata": {},
   "outputs": [],
   "source": [
    "# Train \n",
    "coco_train = json.load(open('./data/COCO/Annotations/coco_train.json'))\n",
    "num_data = len(coco_train)\n",
    "ratio = 0.1\n",
    "num_small_data = int(num_data*ratio)\n",
    "small_coco_train = list(np.random.choice(coco_train,num_small_data))\n",
    "with open(f'./data/COCO/Annotations/small_coco_train_{ratio}.json','w') as f:\n",
    "    json.dump(small_coco_train,f)"
   ]
  },
  {
   "cell_type": "code",
   "execution_count": 5,
   "metadata": {},
   "outputs": [],
   "source": [
    "# Valud \n",
    "coco_valid = json.load(open('./data/COCO/Annotations/coco_val.json'))\n",
    "num_data = len(coco_valid)\n",
    "ratio = 0.3\n",
    "num_small_data = int(num_data*ratio)\n",
    "small_coco_valid = list(np.random.choice(coco_valid,num_small_data))\n",
    "with open(f'./data/COCO/Annotations/small_coco_valid_{ratio}.json','w') as f:\n",
    "    json.dump(small_coco_valid,f)"
   ]
  },
  {
   "cell_type": "code",
   "execution_count": 4,
   "metadata": {},
   "outputs": [],
   "source": [
    "# test \n",
    "coco_test = json.load(open('./data/COCO/Annotations/coco_test.json'))\n",
    "num_data = len(coco_test)\n",
    "ratio = 0.01\n",
    "num_small_data = int(num_data*ratio)\n",
    "small_coco_test = list(np.random.choice(coco_test,num_small_data))\n",
    "with open(f'./data/COCO/Annotations/small_coco_test_{ratio}.json','w') as f:\n",
    "    json.dump(small_coco_valid,f)"
   ]
  },
  {
   "cell_type": "code",
   "execution_count": null,
   "metadata": {},
   "outputs": [],
   "source": []
  }
 ],
 "metadata": {
  "kernelspec": {
   "display_name": "Python 3",
   "language": "python",
   "name": "python3"
  },
  "language_info": {
   "codemirror_mode": {
    "name": "ipython",
    "version": 3
   },
   "file_extension": ".py",
   "mimetype": "text/x-python",
   "name": "python",
   "nbconvert_exporter": "python",
   "pygments_lexer": "ipython3",
   "version": "3.8.10"
  },
  "orig_nbformat": 4
 },
 "nbformat": 4,
 "nbformat_minor": 2
}
