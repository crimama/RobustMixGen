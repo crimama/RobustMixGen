{
 "cells": [
  {
   "cell_type": "code",
   "execution_count": 6,
   "metadata": {},
   "outputs": [],
   "source": [
    "import pandas as pd \n",
    "from arguments import parser\n",
    "from dataset import create_dataset\n",
    "import os \n",
    "import utils \n",
    "import matplotlib.pyplot as plt \n",
    "import numpy as np \n",
    "import json \n",
    "import pandas as pd \n",
    "import torch \n",
    "import torch.nn.functional as F \n",
    "from glob import glob \n",
    "from models.model_pretrain import ALBEF\n",
    "from models.tokenization_bert import BertTokenizer\n",
    "\n",
    "np.random.seed = 42 \n",
    "\n",
    "#### config #### \n",
    "default_setting = './configs/Pretrain.yaml'\n",
    "task_setting = None\n",
    "config = parser(True, default_setting, task_setting)\n",
    "\n",
    "config.args.distributed = False \n",
    "\n",
    "args = config.args \n",
    "args.result_dir = os.path.join(args.output_dir, 'result')\n",
    "\n",
    "\n",
    "#### dataset ####\n",
    "dataset = create_dataset('pretrain', config) \n",
    "trainset = dataset[0]\n",
    "from torch.utils.data import DataLoader\n",
    "\n",
    "train_loader = DataLoader(dataset,batch_size=64,shuffle=True)\n",
    "\n",
    "# device = 'cuda'\n",
    "# tokenizer = BertTokenizer.from_pretrained(args.text_encoder)\n",
    "# model = ALBEF(config=config, text_encoder=args.text_encoder, tokenizer=tokenizer, init_deit=True)\n",
    "# model = model.to(device)   \n",
    "# model_without_ddp = model"
   ]
  },
  {
   "cell_type": "code",
   "execution_count": 7,
   "metadata": {},
   "outputs": [],
   "source": [
    "\n",
    "for img, label in train_loader:\n",
    "    num = int(img.size(0)/4)\n",
    "    break "
   ]
  },
  {
   "cell_type": "code",
   "execution_count": 54,
   "metadata": {},
   "outputs": [
    {
     "data": {
      "text/plain": [
       "'easy listening artist cuts his birthday cake'"
      ]
     },
     "execution_count": 54,
     "metadata": {},
     "output_type": "execute_result"
    }
   ],
   "source": [
    "[ for i in range(num)]"
   ]
  },
  {
   "cell_type": "code",
   "execution_count": 4,
   "metadata": {},
   "outputs": [],
   "source": [
    "args.checkpoint = './Pretrain/Pretrain/checkpoint_00.pth'\n",
    "checkpoint = torch.load(args.checkpoint, map_location='cpu') \n",
    "state_dict = checkpoint['model']          \n"
   ]
  },
  {
   "cell_type": "code",
   "execution_count": 13,
   "metadata": {},
   "outputs": [
    {
     "data": {
      "text/plain": [
       "<All keys matched successfully>"
      ]
     },
     "execution_count": 13,
     "metadata": {},
     "output_type": "execute_result"
    }
   ],
   "source": [
    "model.load_state_dict(state_dict)"
   ]
  },
  {
   "cell_type": "code",
   "execution_count": 6,
   "metadata": {},
   "outputs": [],
   "source": []
  }
 ],
 "metadata": {
  "kernelspec": {
   "display_name": "Python 3",
   "language": "python",
   "name": "python3"
  },
  "language_info": {
   "codemirror_mode": {
    "name": "ipython",
    "version": 3
   },
   "file_extension": ".py",
   "mimetype": "text/x-python",
   "name": "python",
   "nbconvert_exporter": "python",
   "pygments_lexer": "ipython3",
   "version": "3.8.10"
  },
  "orig_nbformat": 4
 },
 "nbformat": 4,
 "nbformat_minor": 2
}
